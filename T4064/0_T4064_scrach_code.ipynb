{
 "cells": [
  {
   "cell_type": "markdown",
   "metadata": {},
   "source": [
    "# 끄적거리거나 테스트 하는 코드"
   ]
  },
  {
   "cell_type": "markdown",
   "metadata": {},
   "source": [
    "```\n",
    "efficientnet_b4 : 19M\n",
    "coatnet_0_rw_224 : 27M  \n",
    "swin_s3_tiny_224 : 28M\n",
    "- convnext  \n",
    "- convmixer  \n",
    "```"
   ]
  },
  {
   "cell_type": "code",
   "execution_count": 4,
   "metadata": {},
   "outputs": [],
   "source": [
    "import torch\n",
    "import torch.nn as nn\n",
    "from torch.optim import *\n",
    "from torch.optim.lr_scheduler import *\n",
    "import torch.nn.functional as F\n",
    "\n",
    "import random\n",
    "\n",
    "import numpy as np\n",
    "\n",
    "import albumentations as A\n",
    "from albumentations.pytorch import ToTensorV2\n",
    "from torch.utils.data import Dataset\n",
    "from torch.utils.data import DataLoader\n",
    "\n",
    "from sklearn.metrics import f1_score\n",
    "\n",
    "import multiprocessing\n",
    "import timm\n",
    "\n",
    "from PIL import Image\n",
    "\n",
    "import os\n",
    "import json\n",
    "\n",
    "import pandas as pd\n",
    "import matplotlib.pyplot as plt\n",
    "from torchvision.utils import make_grid\n",
    "\n",
    "from sklearn.model_selection import train_test_split"
   ]
  },
  {
   "cell_type": "code",
   "execution_count": 5,
   "metadata": {},
   "outputs": [
    {
     "name": "stdout",
     "output_type": "stream",
     "text": [
      "[1. 0. 2.] float32\n"
     ]
    }
   ],
   "source": [
    "print(pd.Series([1,0,2]).to_numpy(np.float32), pd.Series([1,0,2]).to_numpy(np.float32).dtype)"
   ]
  },
  {
   "cell_type": "code",
   "execution_count": 6,
   "metadata": {},
   "outputs": [],
   "source": [
    "class CustomTrainDataset(Dataset):\n",
    "    ## input pd.Series\n",
    "    ## output np.ndarray\n",
    "    ## change dummy, if label_col is 'gender' or 'mask_state'\n",
    "    def __init__(self, \n",
    "                 img_paths : pd.Series, \n",
    "                 mask_labels : pd.Series, \n",
    "                 gender_labels:pd.Series, \n",
    "                 age_labels:pd.Series, \n",
    "                 transforms=None):\n",
    "        self.img_paths = img_paths.to_numpy()\n",
    "        self.transforms = transforms\n",
    "        self.mask_labels = mask_labels.to_numpy(np.float32)\n",
    "        self.gender_labels = gender_labels.to_numpy(np.float32)\n",
    "        self.age_labels = age_labels.to_numpy(np.float32)\n",
    "        assert self.transforms != None, 'you must use transforms in Trainset'\n",
    "    \n",
    "    ## return numpy img, label\n",
    "    def __getitem__(self, index):\n",
    "        img_path = self.img_paths[index]\n",
    "        img = np.array(Image.open(img_path))\n",
    "\n",
    "        img = self.transforms(image=img)[\"image\"]\n",
    "        mask_label = self.mask_labels[index]\n",
    "        gender_label = self.gender_labels[index]\n",
    "        age_label = self.age_labels[index]\n",
    "\n",
    "        return img, mask_label, gender_label, age_label\n",
    "\n",
    "    def __len__(self):\n",
    "        return len(self.img_paths)"
   ]
  },
  {
   "cell_type": "code",
   "execution_count": 7,
   "metadata": {},
   "outputs": [],
   "source": [
    "train_transforms = A.Compose([\n",
    "        A.Resize(224, 224),\n",
    "        A.CLAHE(),\n",
    "        A.Normalize(mean=(0.560,0.524,0.501), std=(0.233,0.243,0.246)),\n",
    "        ToTensorV2()\n",
    "    ])"
   ]
  },
  {
   "cell_type": "code",
   "execution_count": 8,
   "metadata": {},
   "outputs": [],
   "source": [
    "df = pd.read_csv(os.path.join(os.getcwd(), 'dataset', 'train', '3head_train.csv'))\n",
    "dset = CustomTrainDataset(df['path'], df['mask_class'], df['gender_class'], df['age'], transforms = train_transforms)"
   ]
  },
  {
   "cell_type": "code",
   "execution_count": 18,
   "metadata": {},
   "outputs": [
    {
     "data": {
      "text/html": [
       "<div>\n",
       "<style scoped>\n",
       "    .dataframe tbody tr th:only-of-type {\n",
       "        vertical-align: middle;\n",
       "    }\n",
       "\n",
       "    .dataframe tbody tr th {\n",
       "        vertical-align: top;\n",
       "    }\n",
       "\n",
       "    .dataframe thead th {\n",
       "        text-align: right;\n",
       "    }\n",
       "</style>\n",
       "<table border=\"1\" class=\"dataframe\">\n",
       "  <thead>\n",
       "    <tr style=\"text-align: right;\">\n",
       "      <th></th>\n",
       "      <th>Unnamed: 0</th>\n",
       "      <th>path</th>\n",
       "      <th>mask_class</th>\n",
       "      <th>gender_class</th>\n",
       "      <th>age</th>\n",
       "      <th>origin_label</th>\n",
       "    </tr>\n",
       "  </thead>\n",
       "  <tbody>\n",
       "    <tr>\n",
       "      <th>0</th>\n",
       "      <td>0</td>\n",
       "      <td>/opt/ml/repo/level1_imageclassification_cv-lev...</td>\n",
       "      <td>0</td>\n",
       "      <td>1</td>\n",
       "      <td>45</td>\n",
       "      <td>4</td>\n",
       "    </tr>\n",
       "    <tr>\n",
       "      <th>1</th>\n",
       "      <td>1</td>\n",
       "      <td>/opt/ml/repo/level1_imageclassification_cv-lev...</td>\n",
       "      <td>2</td>\n",
       "      <td>1</td>\n",
       "      <td>45</td>\n",
       "      <td>16</td>\n",
       "    </tr>\n",
       "    <tr>\n",
       "      <th>2</th>\n",
       "      <td>2</td>\n",
       "      <td>/opt/ml/repo/level1_imageclassification_cv-lev...</td>\n",
       "      <td>1</td>\n",
       "      <td>1</td>\n",
       "      <td>45</td>\n",
       "      <td>10</td>\n",
       "    </tr>\n",
       "    <tr>\n",
       "      <th>3</th>\n",
       "      <td>3</td>\n",
       "      <td>/opt/ml/repo/level1_imageclassification_cv-lev...</td>\n",
       "      <td>0</td>\n",
       "      <td>1</td>\n",
       "      <td>45</td>\n",
       "      <td>4</td>\n",
       "    </tr>\n",
       "    <tr>\n",
       "      <th>4</th>\n",
       "      <td>4</td>\n",
       "      <td>/opt/ml/repo/level1_imageclassification_cv-lev...</td>\n",
       "      <td>0</td>\n",
       "      <td>1</td>\n",
       "      <td>45</td>\n",
       "      <td>4</td>\n",
       "    </tr>\n",
       "    <tr>\n",
       "      <th>...</th>\n",
       "      <td>...</td>\n",
       "      <td>...</td>\n",
       "      <td>...</td>\n",
       "      <td>...</td>\n",
       "      <td>...</td>\n",
       "      <td>...</td>\n",
       "    </tr>\n",
       "    <tr>\n",
       "      <th>18895</th>\n",
       "      <td>18895</td>\n",
       "      <td>/opt/ml/repo/level1_imageclassification_cv-lev...</td>\n",
       "      <td>1</td>\n",
       "      <td>0</td>\n",
       "      <td>19</td>\n",
       "      <td>6</td>\n",
       "    </tr>\n",
       "    <tr>\n",
       "      <th>18896</th>\n",
       "      <td>18896</td>\n",
       "      <td>/opt/ml/repo/level1_imageclassification_cv-lev...</td>\n",
       "      <td>0</td>\n",
       "      <td>0</td>\n",
       "      <td>19</td>\n",
       "      <td>0</td>\n",
       "    </tr>\n",
       "    <tr>\n",
       "      <th>18897</th>\n",
       "      <td>18897</td>\n",
       "      <td>/opt/ml/repo/level1_imageclassification_cv-lev...</td>\n",
       "      <td>0</td>\n",
       "      <td>0</td>\n",
       "      <td>19</td>\n",
       "      <td>0</td>\n",
       "    </tr>\n",
       "    <tr>\n",
       "      <th>18898</th>\n",
       "      <td>18898</td>\n",
       "      <td>/opt/ml/repo/level1_imageclassification_cv-lev...</td>\n",
       "      <td>0</td>\n",
       "      <td>0</td>\n",
       "      <td>19</td>\n",
       "      <td>0</td>\n",
       "    </tr>\n",
       "    <tr>\n",
       "      <th>18899</th>\n",
       "      <td>18899</td>\n",
       "      <td>/opt/ml/repo/level1_imageclassification_cv-lev...</td>\n",
       "      <td>0</td>\n",
       "      <td>0</td>\n",
       "      <td>19</td>\n",
       "      <td>0</td>\n",
       "    </tr>\n",
       "  </tbody>\n",
       "</table>\n",
       "<p>18900 rows × 6 columns</p>\n",
       "</div>"
      ],
      "text/plain": [
       "       Unnamed: 0                                               path  \\\n",
       "0               0  /opt/ml/repo/level1_imageclassification_cv-lev...   \n",
       "1               1  /opt/ml/repo/level1_imageclassification_cv-lev...   \n",
       "2               2  /opt/ml/repo/level1_imageclassification_cv-lev...   \n",
       "3               3  /opt/ml/repo/level1_imageclassification_cv-lev...   \n",
       "4               4  /opt/ml/repo/level1_imageclassification_cv-lev...   \n",
       "...           ...                                                ...   \n",
       "18895       18895  /opt/ml/repo/level1_imageclassification_cv-lev...   \n",
       "18896       18896  /opt/ml/repo/level1_imageclassification_cv-lev...   \n",
       "18897       18897  /opt/ml/repo/level1_imageclassification_cv-lev...   \n",
       "18898       18898  /opt/ml/repo/level1_imageclassification_cv-lev...   \n",
       "18899       18899  /opt/ml/repo/level1_imageclassification_cv-lev...   \n",
       "\n",
       "       mask_class  gender_class  age  origin_label  \n",
       "0               0             1   45             4  \n",
       "1               2             1   45            16  \n",
       "2               1             1   45            10  \n",
       "3               0             1   45             4  \n",
       "4               0             1   45             4  \n",
       "...           ...           ...  ...           ...  \n",
       "18895           1             0   19             6  \n",
       "18896           0             0   19             0  \n",
       "18897           0             0   19             0  \n",
       "18898           0             0   19             0  \n",
       "18899           0             0   19             0  \n",
       "\n",
       "[18900 rows x 6 columns]"
      ]
     },
     "execution_count": 18,
     "metadata": {},
     "output_type": "execute_result"
    }
   ],
   "source": [
    "df"
   ]
  },
  {
   "cell_type": "code",
   "execution_count": 9,
   "metadata": {},
   "outputs": [],
   "source": [
    "img, mask, gender, age = dset[1]"
   ]
  },
  {
   "cell_type": "code",
   "execution_count": 10,
   "metadata": {},
   "outputs": [],
   "source": [
    "train_loader = DataLoader(dset,batch_size=8)"
   ]
  },
  {
   "cell_type": "code",
   "execution_count": 12,
   "metadata": {},
   "outputs": [],
   "source": [
    "a,b,c,d = next(iter(train_loader))"
   ]
  },
  {
   "cell_type": "code",
   "execution_count": 17,
   "metadata": {},
   "outputs": [
    {
     "name": "stdout",
     "output_type": "stream",
     "text": [
      "torch.float32 torch.float32 torch.float32 torch.float32\n"
     ]
    }
   ],
   "source": [
    "print(a.dtype, b.dtype, c.dtype, d.dtype)"
   ]
  },
  {
   "cell_type": "code",
   "execution_count": 4,
   "metadata": {},
   "outputs": [
    {
     "name": "stdout",
     "output_type": "stream",
     "text": [
      "Sat Oct 29 17:49:34 2022       \n",
      "+-----------------------------------------------------------------------------+\n",
      "| NVIDIA-SMI 450.80.02    Driver Version: 450.80.02    CUDA Version: 11.0     |\n",
      "|-------------------------------+----------------------+----------------------+\n",
      "| GPU  Name        Persistence-M| Bus-Id        Disp.A | Volatile Uncorr. ECC |\n",
      "| Fan  Temp  Perf  Pwr:Usage/Cap|         Memory-Usage | GPU-Util  Compute M. |\n",
      "|                               |                      |               MIG M. |\n",
      "|===============================+======================+======================|\n",
      "|   0  Tesla V100-PCIE...  Off  | 00000000:00:05.0 Off |                  Off |\n",
      "| N/A   54C    P0    99W / 250W |  19467MiB / 32510MiB |     71%      Default |\n",
      "|                               |                      |                  N/A |\n",
      "+-------------------------------+----------------------+----------------------+\n",
      "                                                                               \n",
      "+-----------------------------------------------------------------------------+\n",
      "| Processes:                                                                  |\n",
      "|  GPU   GI   CI        PID   Type   Process name                  GPU Memory |\n",
      "|        ID   ID                                                   Usage      |\n",
      "|=============================================================================|\n",
      "+-----------------------------------------------------------------------------+\n"
     ]
    }
   ],
   "source": [
    "!nvidia-smi"
   ]
  }
 ],
 "metadata": {
  "kernelspec": {
   "display_name": "Python 3.8.5 ('base')",
   "language": "python",
   "name": "python3"
  },
  "language_info": {
   "codemirror_mode": {
    "name": "ipython",
    "version": 3
   },
   "file_extension": ".py",
   "mimetype": "text/x-python",
   "name": "python",
   "nbconvert_exporter": "python",
   "pygments_lexer": "ipython3",
   "version": "3.8.5"
  },
  "orig_nbformat": 4,
  "vscode": {
   "interpreter": {
    "hash": "d4d1e4263499bec80672ea0156c357c1ee493ec2b1c70f0acce89fc37c4a6abe"
   }
  }
 },
 "nbformat": 4,
 "nbformat_minor": 2
}
