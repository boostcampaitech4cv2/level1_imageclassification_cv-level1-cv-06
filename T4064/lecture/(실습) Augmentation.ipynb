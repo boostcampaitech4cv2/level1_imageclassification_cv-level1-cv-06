{
 "cells": [
  {
   "cell_type": "markdown",
   "metadata": {},
   "source": [
    "데이터 분석의 방향을 설정하기 위해 데이터의 생김새 확인이 필요합니다.  \n",
    "EDA 방법으로는 3가지 방법으로 나눌 수 있습니다.  \n",
    "\n",
    "* input이 될 X에 대한 분석  \n",
    "* target이 될 y에 대한 분석  \n",
    "* X, y 관계를 확인할 수 있는 분석  \n",
    "  \n",
    "  \n",
    "위 같은 케이스를 Image classification으로 가져온다면  \n",
    "\n",
    "* input이 될 X에 대한 분석  \n",
    "X는 Image가 됩니다. X에 대한 특성(feature)은 어떤 것이 있을까요??  \n",
    "이미지 사이즈  \n",
    "분석 대상이 되는 객체의 위치  \n",
    "RGB 채널별 통계 값  \n",
    "  \n",
    "* target이 될 y에 대한 분석  \n",
    "y는 저희가 맞추고자 하는 값이며 y값에 대한 특성은 어떤 것이 있을까요??  \n",
    "y값에 독립적 분포 확인  \n",
    "ex) y_1의 분포는?  \n",
    "y값 들간의 관계 분포 확인  \n",
    "ex) y_1, y_2 정보를 섞은 분포는?  \n",
    "  \n",
    "* X, y 관계를 확인할 수 있는 분석  \n",
    "X특성과 y의 특성 간의 분포 차이는 어떻게 있을까요??  \n",
    "이미지 사이즈와 y 특성의 관계  \n",
    "RGB 통계값과 y 특성의 관계  \n",
    "객체의 위치와 y 특성의 관계  \n",
    "데이터의 노이즈 확인  \n",
    "ex) y값이 잘못 부여된것이 있을까??  "
   ]
  },
  {
   "cell_type": "code",
   "execution_count": 1,
   "metadata": {},
   "outputs": [
    {
     "name": "stdout",
     "output_type": "stream",
     "text": [
      "hello world!\n"
     ]
    }
   ],
   "source": [
    "print('hello world!')"
   ]
  },
  {
   "cell_type": "code",
   "execution_count": null,
   "metadata": {},
   "outputs": [],
   "source": []
  }
 ],
 "metadata": {
  "kernelspec": {
   "display_name": "Python 3.9.13 ('base')",
   "language": "python",
   "name": "python3"
  },
  "language_info": {
   "codemirror_mode": {
    "name": "ipython",
    "version": 3
   },
   "file_extension": ".py",
   "mimetype": "text/x-python",
   "name": "python",
   "nbconvert_exporter": "python",
   "pygments_lexer": "ipython3",
   "version": "3.9.13"
  },
  "orig_nbformat": 4,
  "vscode": {
   "interpreter": {
    "hash": "631926b96873d2007fbe5ba14401cac9ce99e5e76ded0bffc18be58f3fefa61b"
   }
  }
 },
 "nbformat": 4,
 "nbformat_minor": 2
}
