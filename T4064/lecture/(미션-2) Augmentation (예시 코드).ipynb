{
 "cells": [
  {
   "cell_type": "markdown",
   "id": "integral-crown",
   "metadata": {
    "id": "integral-crown"
   },
   "source": [
    "# Lesson 3 - Dataset\n",
    "\n",
    "**미션 개요**\n",
    "- 데이터셋 전처리하는 방법인 Data Augmentation을 시각화를 통해 알아봅시다.\n",
    "\n",
    "**미션의 목적 및 배경**\n",
    "- 3강에서는 데이터를 전처리하고 분포를 증강시키는 Data Augmentation에 대해 진행되었습니다.\n",
    "- 적절한 Data Augmentation 은 모델의 generalization 성능을 향상시켜 overfitting 을 예방할 수 있습니다.\n",
    "\n",
    "**미션 수행으로 얻어갈 수 있는 역량**\n",
    "- 다양한 Augmentation 기법들에 대해 학습하고 이를 시각화하여 Data Augmentation 의 효과에 대한 직관적인 이해도를 높힐 수 있습니다.\n",
    "- 또한, 그 과정에서 본 Dataset 의 부족한 부분을 파악하고 이를 극복하기 위한 나만의 Augmentation 방법들을 고안해 볼 수 있습니다.\n",
    "\n",
    "**데이터셋 개요 및 저작권 정보**\n",
    "- Face with Masks\n",
    "- 캠프 교육용 라이선스 : 교육 내에서만 활용해 주시고, 일부 이미지라도 외부에 노출되는 일은 없도록 부탁드립니다. (데이터셋에 대한 설명글이나, 데이터셋을 활용하여 학습한 weight 정도가 공개 가능합니다)\n",
    "\n",
    "\n",
    "**레퍼런스**\n",
    "- [Radiopaedia](https://radiopaedia.org/cases/normal-brain-mri-6)\n",
    "- [Albumentations](https://github.com/albumentations-team/albumentations)\n"
   ]
  },
  {
   "cell_type": "markdown",
   "id": "8056bca3",
   "metadata": {},
   "source": [
    "## 0. Libraries & Configurations\n",
    "- 시각화에 필요한 라이브러리와 이미지 경로를 설정하여 이미지를 불러옵니다."
   ]
  },
  {
   "cell_type": "code",
   "execution_count": null,
   "id": "7fc80e2b",
   "metadata": {
    "id": "7fc80e2b"
   },
   "outputs": [],
   "source": [
    "# !pip install -U albumentations==1.1.0 --no-binary qudida,albumentations"
   ]
  },
  {
   "cell_type": "code",
   "execution_count": null,
   "id": "external-donna",
   "metadata": {
    "id": "external-donna"
   },
   "outputs": [],
   "source": [
    "import os\n",
    "import sys\n",
    "from glob import glob\n",
    "import requests\n",
    "import random\n",
    "import numpy as np\n",
    "import pandas as pd\n",
    "import cv2\n",
    "from PIL import Image\n",
    "from sklearn.model_selection import train_test_split\n",
    "from tqdm.notebook import tqdm\n",
    "from time import time\n",
    "\n",
    "from albumentations import *\n",
    "\n",
    "import matplotlib.pyplot as plt\n",
    "import seaborn as sns"
   ]
  },
  {
   "cell_type": "code",
   "execution_count": null,
   "id": "hired-xerox",
   "metadata": {
    "id": "hired-xerox"
   },
   "outputs": [],
   "source": [
    "data_dir = '학습 이미지 폴더의 경로를 입력해주세요.'\n",
    "\n",
    "img_path = f'{data_dir}/images/003101_female_Asian_18/mask4.jpg'\n",
    "img = np.array(Image.open(img_path))\n",
    "\n",
    "img_paths = glob(os.path.join(f'{data_dir}/images', '**/*'))\n",
    "random.shuffle(img_paths)"
   ]
  },
  {
   "cell_type": "code",
   "execution_count": null,
   "id": "southwest-remedy",
   "metadata": {
    "id": "southwest-remedy",
    "tags": []
   },
   "outputs": [],
   "source": [
    "plt.figure(figsize=(16,8))\n",
    "plt.imshow(img)"
   ]
  },
  {
   "cell_type": "markdown",
   "id": "included-nylon",
   "metadata": {
    "id": "included-nylon"
   },
   "source": [
    "## 1. Basic Augmentations"
   ]
  },
  {
   "cell_type": "markdown",
   "id": "regulation-savings",
   "metadata": {
    "id": "regulation-savings"
   },
   "source": [
    "### 1.1 Flips\n",
    "- 이미지를 좌우, 상하 반전 시킵니다."
   ]
  },
  {
   "cell_type": "code",
   "execution_count": null,
   "id": "bulgarian-thomas",
   "metadata": {
    "id": "bulgarian-thomas",
    "jupyter": {
     "source_hidden": true
    },
    "tags": []
   },
   "outputs": [],
   "source": [
    "n_rows, n_cols = 2, 2\n",
    "\n",
    "fig, axes = plt.subplots(n_rows, n_cols, sharex=True, sharey=True, figsize=(8, 8))\n",
    "\n",
    "axes[0][0].imshow(img)\n",
    "axes[0][0].set_title(f'Original Image')\n",
    "\n",
    "trfm = Compose([\n",
    "            HorizontalFlip(p=1.0),\n",
    "        ], p=1.0)\n",
    "axes[0][1].imshow(trfm(image=img)['image'])\n",
    "axes[0][1].set_title(f'Horizontal Flip')\n",
    "\n",
    "trfm = Compose([\n",
    "            VerticalFlip(p=1.0),\n",
    "        ], p=1.0)\n",
    "axes[1][0].imshow(trfm(image=img)['image'])\n",
    "axes[1][0].set_title(f'Vertical Flip')\n",
    "\n",
    "trfm = Compose([\n",
    "            HorizontalFlip(p=1.0),\n",
    "            VerticalFlip(p=1.0),\n",
    "        ], p=1.0)\n",
    "axes[1][1].imshow(trfm(image=img)['image'])\n",
    "axes[1][1].set_title(f'Horizontal Flip & Vertical Flip')\n",
    "\n",
    "plt.tight_layout()"
   ]
  },
  {
   "cell_type": "markdown",
   "id": "existing-filter",
   "metadata": {
    "id": "existing-filter"
   },
   "source": [
    "### 1.2 RandomCrop\n",
    "- 이미지를 동일한 크기로 랜덤하게 잘라냅니다."
   ]
  },
  {
   "cell_type": "code",
   "execution_count": null,
   "id": "perfect-share",
   "metadata": {
    "id": "perfect-share",
    "tags": []
   },
   "outputs": [],
   "source": [
    "n_rows, n_cols = 2, 2\n",
    "\n",
    "fig, axes = plt.subplots(n_rows, n_cols, sharex=True, sharey=True, figsize=(8, 8))\n",
    "\n",
    "trfm = Compose([\n",
    "            RandomCrop(height=256, width=192, p=1.0),\n",
    "        ], p=1.0)\n",
    "for i in range(n_rows*n_cols):\n",
    "    axes[i%n_rows][i//n_cols].imshow(trfm(image=img)['image'])\n",
    "\n",
    "plt.tight_layout()"
   ]
  },
  {
   "cell_type": "markdown",
   "id": "appointed-change",
   "metadata": {
    "id": "appointed-change"
   },
   "source": [
    "### 1.3 Shift, Scale, Rotate\n",
    "- 이미지를 랜덤하게 Affine Transform 시킵니다."
   ]
  },
  {
   "cell_type": "code",
   "execution_count": null,
   "id": "atomic-accountability",
   "metadata": {
    "id": "atomic-accountability",
    "jupyter": {
     "source_hidden": true
    },
    "tags": []
   },
   "outputs": [],
   "source": [
    "n_rows, n_cols = 2, 2\n",
    "\n",
    "fig, axes = plt.subplots(n_rows, n_cols, sharex=True, sharey=True, figsize=(8, 8))\n",
    "\n",
    "trfm = Compose([\n",
    "            ShiftScaleRotate(p=1.0),\n",
    "        ], p=1.0)\n",
    "for i in range(n_rows*n_cols):\n",
    "    axes[i%n_rows][i//n_cols].imshow(trfm(image=img)['image'])\n",
    "\n",
    "plt.tight_layout()"
   ]
  },
  {
   "cell_type": "markdown",
   "id": "charged-literacy",
   "metadata": {
    "id": "charged-literacy"
   },
   "source": [
    "### 1.4 Brightness, Contrast\n",
    "- 이미지의 밝기와 대조를 랜덤하게 변화시킵니다."
   ]
  },
  {
   "cell_type": "code",
   "execution_count": null,
   "id": "thorough-footwear",
   "metadata": {
    "id": "thorough-footwear",
    "jupyter": {
     "source_hidden": true
    },
    "tags": []
   },
   "outputs": [],
   "source": [
    "n_rows, n_cols = 2, 2\n",
    "\n",
    "fig, axes = plt.subplots(n_rows, n_cols, sharex=True, sharey=True, figsize=(8, 8))\n",
    "\n",
    "trfm = Compose([\n",
    "            RandomBrightnessContrast(brightness_limit=(-0.3, 0.3), contrast_limit=(-0.3, 0.3), p=1.0),\n",
    "        ], p=1.0)\n",
    "for i in range(n_rows*n_cols):\n",
    "    axes[i%n_rows][i//n_cols].imshow(trfm(image=img)['image'])\n",
    "\n",
    "plt.tight_layout()"
   ]
  },
  {
   "cell_type": "markdown",
   "id": "established-representative",
   "metadata": {
    "id": "established-representative"
   },
   "source": [
    "### 1.5 Gaussian Noise\n",
    "- 이미지에 랜덤하게 가우시안 노이즈를 씌웁니다."
   ]
  },
  {
   "cell_type": "code",
   "execution_count": null,
   "id": "focused-nutrition",
   "metadata": {
    "id": "focused-nutrition",
    "jupyter": {
     "source_hidden": true
    },
    "tags": []
   },
   "outputs": [],
   "source": [
    "n_rows, n_cols = 2, 2\n",
    "\n",
    "fig, axes = plt.subplots(n_rows, n_cols, sharex=True, sharey=True, figsize=(8, 8))\n",
    "\n",
    "trfm = Compose([\n",
    "            GaussNoise(var_limit=(1000, 1600), p=1.0),\n",
    "        ], p=1.0)\n",
    "random.shuffle(img_paths)\n",
    "for i in range(n_rows*n_cols):\n",
    "    _img = np.array(Image.open(img_paths[i]))\n",
    "    axes[i%n_rows][i//n_cols].imshow(trfm(image=_img)['image'])\n",
    "\n",
    "plt.tight_layout()"
   ]
  },
  {
   "cell_type": "markdown",
   "id": "artificial-wagner",
   "metadata": {
    "id": "artificial-wagner"
   },
   "source": [
    "### 1.6 Put All Togetehr\n",
    "- 위에서 살펴본 모든 Augmentation 기법을 적용시켜봅니다."
   ]
  },
  {
   "cell_type": "code",
   "execution_count": null,
   "id": "southern-browser",
   "metadata": {
    "id": "southern-browser",
    "jupyter": {
     "source_hidden": true
    },
    "tags": []
   },
   "outputs": [],
   "source": [
    "n_rows, n_cols = 2, 2\n",
    "\n",
    "fig, axes = plt.subplots(n_rows, n_cols, sharex=True, sharey=True, figsize=(8, 8))\n",
    "\n",
    "trfm = Compose([\n",
    "            RandomCrop(height=256, width=192, p=1.0),\n",
    "            HorizontalFlip(p=0.5),\n",
    "            VerticalFlip(p=0.5),\n",
    "            RandomBrightnessContrast(brightness_limit=(-0.3, 0.3), contrast_limit=(-0.3, 0.3), p=0.5),\n",
    "            GaussNoise(var_limit=(1000, 1600), p=0.3),\n",
    "        ], p=1.0)\n",
    "random.shuffle(img_paths)\n",
    "for i in range(n_rows*n_cols):\n",
    "    _img = np.array(Image.open(img_paths[i]))\n",
    "    axes[i%n_rows][i//n_cols].imshow(trfm(image=_img)['image'])\n",
    "\n",
    "plt.tight_layout()"
   ]
  },
  {
   "cell_type": "markdown",
   "id": "turned-catalog",
   "metadata": {
    "id": "turned-catalog"
   },
   "source": [
    "## 2. Pixel-level transforms\n",
    "- 위에서 살펴본 Augmentation 외에도 많은 방법이 존재합니다.\n",
    "- 이 부분에서는 이미지에 대한 공간적인 변화없이, 픽셀 값 자체만 바꾸는 다양한 Pixel-level Transform을 시각화 해봅니다."
   ]
  },
  {
   "cell_type": "code",
   "execution_count": null,
   "id": "heavy-specialist",
   "metadata": {
    "id": "heavy-specialist",
    "jupyter": {
     "source_hidden": true
    },
    "tags": []
   },
   "outputs": [],
   "source": [
    "n_rows, n_cols = 4, 4\n",
    "\n",
    "fig, axes = plt.subplots(n_rows, n_cols, sharex=True, sharey=True, figsize=(12, 16))\n",
    "\n",
    "trfm_ls = [Blur,\n",
    "           CLAHE,\n",
    "           ChannelDropout,\n",
    "           ChannelShuffle,\n",
    "           ColorJitter,\n",
    "           Equalize,\n",
    "           FancyPCA,\n",
    "           GaussNoise,\n",
    "           GaussianBlur,\n",
    "           GlassBlur,\n",
    "           MedianBlur,\n",
    "           MotionBlur,\n",
    "           MultiplicativeNoise,\n",
    "           RGBShift,\n",
    "           RandomBrightnessContrast,\n",
    "           RandomFog,\n",
    "           Solarize\n",
    "]\n",
    "for i in range(n_rows*n_cols):\n",
    "    trfm = Compose([Resize(height=256, width=192, p=1.0), trfm_ls[i](p=1.0)])\n",
    "    axes[i%n_rows][i//n_cols].imshow(trfm(image=img)['image'])\n",
    "    axes[i%n_rows][i//n_cols].set_title(f'{trfm_ls[i].__name__}')\n",
    "\n",
    "plt.tight_layout()"
   ]
  },
  {
   "cell_type": "markdown",
   "id": "racial-ribbon",
   "metadata": {
    "id": "racial-ribbon"
   },
   "source": [
    "## 3. Spatial-level Augmentation\n",
    "- 이 부분에서는 공간적으로 이미지를 변형시켜봅니다."
   ]
  },
  {
   "cell_type": "code",
   "execution_count": null,
   "id": "norman-alexandria",
   "metadata": {
    "id": "norman-alexandria",
    "jupyter": {
     "source_hidden": true
    },
    "tags": []
   },
   "outputs": [],
   "source": [
    "n_rows, n_cols = 3, 3\n",
    "\n",
    "fig, axes = plt.subplots(n_rows, n_cols, sharex=True, sharey=True, figsize=(12, 16))\n",
    "\n",
    "trfm_ls = [CoarseDropout,\n",
    "           ElasticTransform,\n",
    "           GridDistortion,\n",
    "           OpticalDistortion,\n",
    "           GridDropout,\n",
    "           HorizontalFlip,\n",
    "           VerticalFlip,\n",
    "           RandomRotate90,\n",
    "           ShiftScaleRotate]\n",
    "for i in range(n_rows*n_cols):\n",
    "    trfm = Compose([Resize(height=256, width=192, p=1.0), trfm_ls[i](p=1.0)])\n",
    "    axes[i%n_rows][i//n_cols].imshow(trfm(image=img)['image'])\n",
    "    axes[i%n_rows][i//n_cols].set_title(f'{trfm_ls[i].__name__}')\n",
    "\n",
    "plt.tight_layout()"
   ]
  },
  {
   "cell_type": "markdown",
   "id": "introductory-lightning",
   "metadata": {
    "id": "introductory-lightning"
   },
   "source": [
    "## 4. Medical Image Augmentation\n",
    "- 의료 영상은 일반적인 이미지와는 다른 형태로 존재합니다. 눈에 보이는 특징으로는 흑백 영상이라는 점이고 촬영 방식에 따라 공간적인 변형을 최소화해주어야 할 경우도 있습니다.\n",
    "- 이 부분에서는 의료 영상에 사용되는 Data Augmentation을 시각화합니다."
   ]
  },
  {
   "cell_type": "code",
   "execution_count": null,
   "id": "freelance-aaron",
   "metadata": {
    "id": "freelance-aaron"
   },
   "outputs": [],
   "source": [
    "med_url = 'https://prod-images-static.radiopaedia.org/images/13656005/bd937738ad6223a03f8aedcf4920a7_big_gallery.jpeg'\n",
    "img = np.array(Image.open(requests.get(med_url, stream=True).raw))"
   ]
  },
  {
   "cell_type": "code",
   "execution_count": null,
   "id": "wound-romania",
   "metadata": {
    "id": "wound-romania"
   },
   "outputs": [],
   "source": [
    "plt.figure(figsize=(16,8))\n",
    "plt.imshow(img, cmap='gray')"
   ]
  },
  {
   "cell_type": "code",
   "execution_count": null,
   "id": "eight-segment",
   "metadata": {
    "id": "eight-segment",
    "jupyter": {
     "source_hidden": true
    },
    "tags": []
   },
   "outputs": [],
   "source": [
    "n_rows, n_cols = 3, 3\n",
    "\n",
    "fig, axes = plt.subplots(n_rows, n_cols, sharex=True, sharey=True, figsize=(12, 16))\n",
    "\n",
    "trfm_ls = [ElasticTransform,\n",
    "           GridDistortion,\n",
    "           OpticalDistortion,\n",
    "           HorizontalFlip,\n",
    "           GaussNoise,\n",
    "           GaussianBlur,\n",
    "           GlassBlur,\n",
    "           MedianBlur,\n",
    "           MotionBlur]\n",
    "for i in range(n_rows*n_cols):\n",
    "    trfm = Compose([Resize(height=512, width=512, p=1.0), trfm_ls[i](p=1.0)])\n",
    "    axes[i%n_rows][i//n_cols].imshow(trfm(image=img)['image'], cmap='gray')\n",
    "    axes[i%n_rows][i//n_cols].set_title(f'{trfm_ls[i].__name__}')\n",
    "\n",
    "plt.tight_layout()"
   ]
  },
  {
   "cell_type": "markdown",
   "id": "BKbuLoeTRiS5",
   "metadata": {
    "id": "BKbuLoeTRiS5"
   },
   "source": [
    "###**콘텐츠 라이선스**\n",
    "\n",
    "<font color='red'><b>**WARNING**</b></font> : **본 교육 콘텐츠의 지식재산권은 재단법인 네이버커넥트에 귀속됩니다. 본 콘텐츠를 어떠한 경로로든 외부로 유출 및 수정하는 행위를 엄격히 금합니다.** 다만, 비영리적 교육 및 연구활동에 한정되어 사용할 수 있으나 재단의 허락을 받아야 합니다. 이를 위반하는 경우, 관련 법률에 따라 책임을 질 수 있습니다."
   ]
  }
 ],
 "metadata": {
  "colab": {
   "collapsed_sections": [],
   "provenance": []
  },
  "kernelspec": {
   "display_name": "Python 3 (ipykernel)",
   "language": "python",
   "name": "python3"
  },
  "language_info": {
   "codemirror_mode": {
    "name": "ipython",
    "version": 3
   },
   "file_extension": ".py",
   "mimetype": "text/x-python",
   "name": "python",
   "nbconvert_exporter": "python",
   "pygments_lexer": "ipython3",
   "version": "3.10.0"
  }
 },
 "nbformat": 4,
 "nbformat_minor": 5
}
