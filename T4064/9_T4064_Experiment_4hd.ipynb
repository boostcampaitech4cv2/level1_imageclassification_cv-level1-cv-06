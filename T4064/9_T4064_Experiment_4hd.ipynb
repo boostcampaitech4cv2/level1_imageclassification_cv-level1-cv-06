{
 "cells": [
  {
   "cell_type": "markdown",
   "metadata": {},
   "source": [
    "## Easy Experiment .ipynb File"
   ]
  },
  {
   "cell_type": "markdown",
   "metadata": {},
   "source": [
    "### <font color='red'><b> 🐬 기억합시다 :] 실험마다 인덱스 붙여서 파일 새로만들기~! <b></font>"
   ]
  },
  {
   "cell_type": "markdown",
   "metadata": {},
   "source": [
    "### unseen data로 validation을 측정하는 실험"
   ]
  },
  {
   "cell_type": "markdown",
   "metadata": {},
   "source": [
    "## import"
   ]
  },
  {
   "cell_type": "code",
   "execution_count": null,
   "metadata": {},
   "outputs": [],
   "source": [
    "import torch\n",
    "import torch.nn as nn\n",
    "from torch.optim import *\n",
    "from torch.optim.lr_scheduler import *\n",
    "import torch.nn.functional as F\n",
    "\n",
    "import random\n",
    "import time\n",
    "from datetime import timedelta\n",
    "import shutil\n",
    "\n",
    "import numpy as np\n",
    "\n",
    "import albumentations as A\n",
    "from albumentations.pytorch import ToTensorV2\n",
    "from torch.utils.data import Dataset\n",
    "from torch.utils.data import DataLoader\n",
    "from pytorch_model_summary import summary\n",
    "\n",
    "from sklearn.metrics import f1_score\n",
    "from sklearn.metrics import cohen_kappa_score\n",
    "from sklearn.metrics import accuracy_score\n",
    "from sklearn.metrics import balanced_accuracy_score\n",
    "from sklearn.metrics import mean_absolute_error\n",
    "from sklearn.metrics import mean_squared_error\n",
    "\n",
    "import multiprocessing\n",
    "import timm\n",
    "\n",
    "from PIL import Image\n",
    "\n",
    "import os\n",
    "import json\n",
    "\n",
    "import pandas as pd\n",
    "import matplotlib.pyplot as plt\n",
    "from torchvision.utils import make_grid\n",
    "\n",
    "from sklearn.model_selection import train_test_split"
   ]
  },
  {
   "cell_type": "code",
   "execution_count": null,
   "metadata": {},
   "outputs": [],
   "source": [
    "with torch.no_grad():\n",
    "    torch.cuda.empty_cache()"
   ]
  },
  {
   "cell_type": "code",
   "execution_count": null,
   "metadata": {},
   "outputs": [],
   "source": [
    "def seed_everything(seed):\n",
    "    torch.manual_seed(seed)\n",
    "    torch.cuda.manual_seed(seed)\n",
    "    torch.cuda.manual_seed_all(seed)  # if use multi-GPU\n",
    "    torch.backends.cudnn.deterministic = True\n",
    "    torch.backends.cudnn.benchmark = False\n",
    "    np.random.seed(seed)\n",
    "    random.seed(seed)"
   ]
  },
  {
   "cell_type": "markdown",
   "metadata": {},
   "source": [
    "## configuration"
   ]
  },
  {
   "cell_type": "code",
   "execution_count": null,
   "metadata": {},
   "outputs": [],
   "source": [
    "### cofiguration\n",
    "seed = 42\n",
    "check_point_dir_name = '4hd_1'\n",
    "data_dir = './dataset/train/images/'\n",
    "train_csv_path = './dataset/train/custom_train.csv'\n",
    "save_dir = f'./checkpoints/{check_point_dir_name}'\n",
    "\n",
    "train_b_size = 16\n",
    "valid_b_size = 300\n",
    "train_ratio = 0.8\n",
    "epochs = 25\n",
    "print_interval = 800\n",
    "lr = 1.5e-4\n",
    "model_name = 'resnet34'\n",
    "num_labels = 3+2+3+1\n",
    "loss_function_name = 'FocalLoss' # ex FocalLoss, CrossEntropyLoss, MSELoss, HuberLoss L1LossFlat\n",
    "optimizer_name = 'AdamW'\n",
    "weight_decay = 0.02\n",
    "scheduler_name = 'CosineAnnealingWarmRestarts'\n",
    "comment = f'3head but model pick just Age f1 score'\n",
    "\n",
    "\n",
    "use_cuda = torch.cuda.is_available()\n",
    "device = torch.device(\"cuda\" if use_cuda else \"cpu\")\n",
    "\n",
    "\n",
    "seed_everything(seed)"
   ]
  },
  {
   "cell_type": "code",
   "execution_count": null,
   "metadata": {},
   "outputs": [],
   "source": [
    "\n",
    "dict_args = {\n",
    "'seed' : seed,\n",
    "'train_b_size': train_b_size,\n",
    "'epochs' : epochs,\n",
    "'lr' : lr,\n",
    "'model_name' : model_name,\n",
    "'num_labels' : num_labels,\n",
    "'train_ratio': train_ratio,\n",
    "'loss_function_name' : loss_function_name,\n",
    "'optimizer_name' : optimizer_name,\n",
    "'weight_decay' : weight_decay,\n",
    "'scheduler_name' : scheduler_name,\n",
    "'comment' : comment\n",
    "}"
   ]
  },
  {
   "cell_type": "code",
   "execution_count": null,
   "metadata": {},
   "outputs": [],
   "source": [
    "os.makedirs(save_dir,exist_ok=True)"
   ]
  },
  {
   "cell_type": "code",
   "execution_count": null,
   "metadata": {},
   "outputs": [],
   "source": [
    "with open(os.path.join(save_dir, 'config.json'), 'w', encoding='utf-8') as f:\n",
    "        json.dump(dict_args, f, ensure_ascii=False, indent=4)"
   ]
  },
  {
   "cell_type": "markdown",
   "metadata": {},
   "source": [
    "## datasets class"
   ]
  },
  {
   "cell_type": "code",
   "execution_count": null,
   "metadata": {},
   "outputs": [],
   "source": [
    "class CustomTrainDataset(Dataset):\n",
    "    ## input pd.Series\n",
    "    ## output np.ndarray\n",
    "    ## change dummy, if label_col is 'gender' or 'mask_state'\n",
    "    def __init__(self, img_paths : pd.Series, labels : pd.Series, label_col='class', transforms=None):\n",
    "        self.img_paths = img_paths.to_numpy()\n",
    "        self.transforms = transforms\n",
    "        if label_col == 'gender':\n",
    "            self.labels = pd.get_dummies(labels).to_numpy()\n",
    "        elif label_col == 'mask_state':\n",
    "            self.labels = pd.get_dummies(labels).to_numpy()\n",
    "        else: # age, classes\n",
    "            self.labels = labels.to_numpy(dtype=np.float32)\n",
    "        ## if (False), assert occur\n",
    "        assert self.transforms is not None, 'you must use transforms in Trainset'\n",
    "    \n",
    "    ## return numpy img, label\n",
    "    def __getitem__(self, index):\n",
    "        img_path = self.img_paths[index]\n",
    "        img = np.array(Image.open(img_path))\n",
    "\n",
    "        img = self.transforms(image=img)[\"image\"]\n",
    "        label = self.labels[index]\n",
    "        return img, label\n",
    "\n",
    "    def __len__(self):\n",
    "        return len(self.labels)"
   ]
  },
  {
   "cell_type": "markdown",
   "metadata": {},
   "source": [
    "## augmentations"
   ]
  },
  {
   "cell_type": "code",
   "execution_count": null,
   "metadata": {},
   "outputs": [],
   "source": [
    "train_transforms = A.Compose([\n",
    "        A.CenterCrop(height=450,width=250),\n",
    "        A.HorizontalFlip(p=0.5),\n",
    "        A.Resize(224, 224),\n",
    "        A.CLAHE(p=.5,clip_limit=6.0),\n",
    "        # A.ToGray(p=.3),\n",
    "        # A.ColorJitter(p=.3),\n",
    "        A.GridDistortion(p=.5),\n",
    "        A.OneOf([\n",
    "            A.RandomBrightnessContrast(brightness_limit=0.2, p=1),\n",
    "            A.RandomContrast(limit=.2, p=1),\n",
    "            A.RandomGamma(p=1)\n",
    "        ], p=.3),\n",
    "        A.OneOf([\n",
    "            A.Blur(blur_limit=3, p=1),\n",
    "            A.MedianBlur(blur_limit=3, p=1)\n",
    "        ], p=.2),\n",
    "        A.OneOf([\n",
    "            A.GaussNoise(0.002, p=.5),\n",
    "        ], p=.2),\n",
    "        A.Normalize(mean=(0.560,0.524,0.501), std=(0.233,0.243,0.246)),\n",
    "        ToTensorV2()\n",
    "    ])\n",
    "    \n",
    "valid_transforms = A.Compose([\n",
    "        A.CenterCrop(height=450,width=250),\n",
    "        A.Resize(224, 224),\n",
    "        A.Normalize(mean=(0.560,0.524,0.501), std=(0.233,0.243,0.246)),\n",
    "        ToTensorV2()\n",
    "    ])"
   ]
  },
  {
   "cell_type": "markdown",
   "metadata": {},
   "source": [
    "## make dataset and dataloader"
   ]
  },
  {
   "cell_type": "code",
   "execution_count": null,
   "metadata": {},
   "outputs": [],
   "source": [
    "df_train = pd.read_csv('./dataset/train/hypothesis_train.csv')\n",
    "df_valid = pd.read_csv('./dataset/train/hypothesis_valid.csv')"
   ]
  },
  {
   "cell_type": "code",
   "execution_count": null,
   "metadata": {},
   "outputs": [],
   "source": [
    "## num of dset\n",
    "print(len(df_train), len(df_valid))"
   ]
  },
  {
   "cell_type": "code",
   "execution_count": null,
   "metadata": {},
   "outputs": [],
   "source": [
    "df_train.head()"
   ]
  },
  {
   "cell_type": "code",
   "execution_count": null,
   "metadata": {},
   "outputs": [],
   "source": [
    "def age_to_class(age):\n",
    "    cls = None\n",
    "    if age<30:\n",
    "        cls = 0\n",
    "    elif 30<=age<60:\n",
    "        cls = 1\n",
    "    elif age>=60:\n",
    "        cls = 2\n",
    "    else:\n",
    "        cls = None\n",
    "    if cls == None:\n",
    "        assert ValueError\n",
    "    return cls\n"
   ]
  },
  {
   "cell_type": "code",
   "execution_count": null,
   "metadata": {},
   "outputs": [],
   "source": [
    "age_train_cls = []\n",
    "age_valid_cls = []\n",
    "\n",
    "for age in df_train['age']:\n",
    "    age_train_cls.append(age_to_class(age))\n",
    "\n",
    "for age in df_valid['age']:\n",
    "    age_valid_cls.append(age_to_class(age))"
   ]
  },
  {
   "cell_type": "code",
   "execution_count": null,
   "metadata": {},
   "outputs": [],
   "source": [
    "df_train['age_cls'] = age_train_cls\n",
    "df_valid['age_cls'] = age_valid_cls"
   ]
  },
  {
   "cell_type": "code",
   "execution_count": null,
   "metadata": {},
   "outputs": [],
   "source": [
    "df_train"
   ]
  },
  {
   "cell_type": "code",
   "execution_count": null,
   "metadata": {},
   "outputs": [],
   "source": [
    "df_valid"
   ]
  },
  {
   "cell_type": "code",
   "execution_count": null,
   "metadata": {},
   "outputs": [],
   "source": [
    "df_train[['mask_class','gender_class','age_cls','age']]\n",
    "df_valid[['mask_class','gender_class','age_cls','age']]"
   ]
  },
  {
   "cell_type": "code",
   "execution_count": null,
   "metadata": {},
   "outputs": [],
   "source": [
    "train_dset = CustomTrainDataset(df_train['path'], df_train[['mask_class','gender_class','age_cls','age']], 'class', train_transforms)\n",
    "val_dset = CustomTrainDataset(df_valid['path'], df_valid[['mask_class','gender_class','age_cls','age']], 'class', valid_transforms)"
   ]
  },
  {
   "cell_type": "code",
   "execution_count": null,
   "metadata": {},
   "outputs": [],
   "source": [
    "print(train_dset[0][1])"
   ]
  },
  {
   "cell_type": "code",
   "execution_count": null,
   "metadata": {},
   "outputs": [],
   "source": [
    "## num of iter(batches)\n",
    "print(len(train_dset), len(val_dset))"
   ]
  },
  {
   "cell_type": "code",
   "execution_count": null,
   "metadata": {},
   "outputs": [],
   "source": [
    "train_loader = DataLoader(\n",
    "        train_dset,\n",
    "        batch_size=train_b_size,\n",
    "        num_workers=multiprocessing.cpu_count() // 2,\n",
    "        shuffle=True,\n",
    "        pin_memory=use_cuda,\n",
    "        drop_last=False,\n",
    "    )\n",
    "\n",
    "val_loader = DataLoader(\n",
    "        val_dset,\n",
    "        batch_size=valid_b_size,\n",
    "        num_workers=multiprocessing.cpu_count() // 2,\n",
    "        shuffle=False,\n",
    "        pin_memory=use_cuda,\n",
    "        drop_last=False,\n",
    "    )"
   ]
  },
  {
   "cell_type": "code",
   "execution_count": null,
   "metadata": {},
   "outputs": [],
   "source": [
    "print(len(train_loader))\n",
    "print(len(val_loader))"
   ]
  },
  {
   "cell_type": "markdown",
   "metadata": {},
   "source": [
    "## visualization transform"
   ]
  },
  {
   "cell_type": "code",
   "execution_count": null,
   "metadata": {},
   "outputs": [],
   "source": [
    "## for check transform\n",
    "imgs, labels = next(iter(train_loader))\n",
    "plt.figure(figsize=(10, 5))\n",
    "plt.imshow(make_grid(imgs, normalize=True).permute(1,2,0))\n",
    "plt.show()"
   ]
  },
  {
   "cell_type": "code",
   "execution_count": null,
   "metadata": {},
   "outputs": [],
   "source": [
    "## for check transform\n",
    "imgs, labels = next(iter(train_loader))\n",
    "plt.figure(figsize=(10, 5))\n",
    "plt.imshow(make_grid(imgs, normalize=True).permute(1,2,0))\n",
    "plt.show()"
   ]
  },
  {
   "cell_type": "code",
   "execution_count": null,
   "metadata": {},
   "outputs": [],
   "source": [
    "# imgs, labels = next(iter(val_loader))\n",
    "# plt.figure(figsize=(10, 5))\n",
    "# plt.imshow(make_grid(imgs, normalize=True).permute(1,2,0))\n",
    "# plt.show()"
   ]
  },
  {
   "cell_type": "markdown",
   "metadata": {},
   "source": [
    "## Model"
   ]
  },
  {
   "cell_type": "code",
   "execution_count": null,
   "metadata": {},
   "outputs": [],
   "source": [
    "timm.list_models('*convnext*', pretrained=True)"
   ]
  },
  {
   "cell_type": "code",
   "execution_count": null,
   "metadata": {},
   "outputs": [],
   "source": [
    "# model = timm.create_model('swin_base_patch4_window7_224_in22k', pretrained=True, num_classes=num_labels)\n",
    "# model.to(device)"
   ]
  },
  {
   "cell_type": "code",
   "execution_count": null,
   "metadata": {},
   "outputs": [],
   "source": [
    "# print(summary(model,torch.Tensor(2,3,224,224).to(device)))"
   ]
  },
  {
   "cell_type": "code",
   "execution_count": null,
   "metadata": {},
   "outputs": [],
   "source": [
    "model = timm.create_model(model_name=model_name, pretrained=True, num_classes=num_labels)\n",
    "model.to(device)"
   ]
  },
  {
   "cell_type": "code",
   "execution_count": null,
   "metadata": {},
   "outputs": [],
   "source": [
    "print(summary(model,torch.Tensor(2,3,224,224).to(device)))"
   ]
  },
  {
   "cell_type": "markdown",
   "metadata": {},
   "source": [
    "## Loss function"
   ]
  },
  {
   "cell_type": "code",
   "execution_count": null,
   "metadata": {},
   "outputs": [],
   "source": [
    "num_of_cls = df_train['age_cls'].value_counts().sort_index().values.tolist()\n",
    "age_loss_weight = torch.tensor([max(num_of_cls)/i for i in num_of_cls]).to(device)\n",
    "num_of_cls = df_train['mask_class'].value_counts().sort_index().values.tolist()\n",
    "mask_loss_weight = torch.tensor([max(num_of_cls)/i for i in num_of_cls]).to(device)\n",
    "num_of_cls = df_train['gender_class'].value_counts().sort_index().values.tolist()\n",
    "gender_loss_weight = torch.tensor([max(num_of_cls)/i for i in num_of_cls]).to(device)"
   ]
  },
  {
   "cell_type": "code",
   "execution_count": null,
   "metadata": {},
   "outputs": [],
   "source": [
    "df_train['age_cls'].value_counts().sort_index().values.tolist()"
   ]
  },
  {
   "cell_type": "code",
   "execution_count": null,
   "metadata": {},
   "outputs": [],
   "source": [
    "class FocalLoss(nn.Module):\n",
    "    def __init__(self, weight=None,\n",
    "                 gamma=2., reduction='mean'):\n",
    "        nn.Module.__init__(self)\n",
    "        self.weight = weight\n",
    "        self.gamma = gamma\n",
    "        self.reduction = reduction\n",
    "\n",
    "    def forward(self, input_tensor, target_tensor):\n",
    "        log_prob = F.log_softmax(input_tensor, dim=-1)\n",
    "        prob = torch.exp(log_prob)\n",
    "        return F.nll_loss(\n",
    "            ((1 - prob) ** self.gamma) * log_prob,\n",
    "            target_tensor,\n",
    "            weight=self.weight,\n",
    "            reduction=self.reduction\n",
    "        )\n",
    "\n",
    "class F1Loss(nn.Module):\n",
    "    def __init__(self, classes=18, epsilon=1e-7):\n",
    "        super().__init__()\n",
    "        self.classes = classes\n",
    "        self.epsilon = epsilon\n",
    "\n",
    "    def forward(self, y_pred, y_true):\n",
    "        assert y_pred.ndim == 2\n",
    "        assert y_true.ndim == 1\n",
    "        y_true = F.one_hot(y_true, self.classes).to(torch.float32)\n",
    "        y_pred = F.softmax(y_pred, dim=1)\n",
    "\n",
    "        tp = (y_true * y_pred).sum(dim=0).to(torch.float32)\n",
    "        tn = ((1 - y_true) * (1 - y_pred)).sum(dim=0).to(torch.float32)\n",
    "        fp = ((1 - y_true) * y_pred).sum(dim=0).to(torch.float32)\n",
    "        fn = (y_true * (1 - y_pred)).sum(dim=0).to(torch.float32)\n",
    "\n",
    "        precision = tp / (tp + fp + self.epsilon)\n",
    "        recall = tp / (tp + fn + self.epsilon)\n",
    "\n",
    "        f1 = 2 * (precision * recall) / (precision + recall + self.epsilon)\n",
    "        f1 = f1.clamp(min=self.epsilon, max=1 - self.epsilon)\n",
    "        return 1 - f1.mean()\n",
    "\n",
    "class L1LossFlat(nn.SmoothL1Loss):\n",
    "    def forward(self, input:torch.Tensor, target:torch.Tensor):\n",
    "        return super().forward(input.view(-1), target.view(-1))"
   ]
  },
  {
   "cell_type": "code",
   "execution_count": null,
   "metadata": {},
   "outputs": [],
   "source": [
    "## for mask and gender    [1.,5.,5.]).to(device)\n",
    "age_criterion = nn.CrossEntropyLoss(weight=age_loss_weight)\n",
    "mask_criterion = nn.CrossEntropyLoss(weight=mask_loss_weight) # classes=3\n",
    "gender_criterion = nn.CrossEntropyLoss(weight=gender_loss_weight)\n",
    "age_reg_criterion = L1LossFlat()"
   ]
  },
  {
   "cell_type": "markdown",
   "metadata": {},
   "source": [
    "## Optimizer"
   ]
  },
  {
   "cell_type": "code",
   "execution_count": null,
   "metadata": {},
   "outputs": [],
   "source": [
    "# if you param freeze, not update during training\n",
    "optimizer = None\n",
    "if optimizer_name == 'AdamW':\n",
    "    optimizer = AdamW(filter(lambda p: p.requires_grad, model.parameters()), lr=lr, weight_decay=weight_decay) # 0.09 \n",
    "else:\n",
    "    raise ValueError(f'not implement Optimizer : {optimizer_name}')"
   ]
  },
  {
   "cell_type": "code",
   "execution_count": null,
   "metadata": {},
   "outputs": [],
   "source": [
    "optimizer"
   ]
  },
  {
   "cell_type": "markdown",
   "metadata": {},
   "source": [
    "## Scheduler  "
   ]
  },
  {
   "cell_type": "code",
   "execution_count": null,
   "metadata": {},
   "outputs": [],
   "source": [
    "scheduler = None\n",
    "\n",
    "if scheduler_name == 'ReduceLROnPlateau':\n",
    "    ## during 5epochs, valid loss decrease 1e-3↓, lr update lr*0.5\n",
    "    scheduler = ReduceLROnPlateau(optimizer, mode='min', factor=0.5, patience=2, threshold=1e-3) ## 정리\n",
    "elif scheduler_name == 'CosineAnnealingWarmRestarts':\n",
    "    scheduler = CosineAnnealingWarmRestarts(optimizer, T_0=5, T_mult=1, eta_min=1e-4)\n",
    "\n",
    "assert scheduler != None , 'sheduler is None'"
   ]
  },
  {
   "cell_type": "code",
   "execution_count": null,
   "metadata": {},
   "outputs": [],
   "source": [
    "scheduler"
   ]
  },
  {
   "cell_type": "markdown",
   "metadata": {},
   "source": [
    "## Train"
   ]
  },
  {
   "cell_type": "code",
   "execution_count": null,
   "metadata": {},
   "outputs": [],
   "source": [
    "def age_to_class(age, std=0):\n",
    "    cls = None\n",
    "    if age<30:\n",
    "        cls = 0\n",
    "    elif 30<=age<60-std:\n",
    "        cls = 1\n",
    "    elif age>=60-std:\n",
    "        cls = 2\n",
    "    else:\n",
    "        cls = None\n",
    "    if cls == None:\n",
    "        assert ValueError\n",
    "    return cls"
   ]
  },
  {
   "cell_type": "code",
   "execution_count": null,
   "metadata": {},
   "outputs": [],
   "source": [
    "task_weight = [1., 1., 1., 0.]\n",
    "# task_weight = [i/min(task_weight) for i in task_weight]\n",
    "# norm = [(float(i)-min(task_weight))/(max(task_weight)-min(task_weight)) for i in task_weight]"
   ]
  },
  {
   "cell_type": "code",
   "execution_count": null,
   "metadata": {},
   "outputs": [],
   "source": [
    "for w in task_weight:\n",
    "    print(w)"
   ]
  },
  {
   "cell_type": "code",
   "execution_count": null,
   "metadata": {},
   "outputs": [],
   "source": [
    "## for True Label\n",
    "def get_label(mask_state, gender, age_cls):\n",
    "    label = 0\n",
    "    if mask_state == 0 and gender == 0 and age_cls == 0: # 0:\n",
    "        label = 0\n",
    "    elif mask_state == 0 and gender == 0 and age_cls == 1: # 1\n",
    "        label = 1\n",
    "    elif mask_state == 0 and gender == 0 and age_cls == 2: # 2\n",
    "        label = 2\n",
    "    elif mask_state == 0 and gender == 1 and age_cls == 0: # 3\n",
    "        label = 3\n",
    "    elif mask_state == 0 and gender == 1 and age_cls == 1: # 4\n",
    "        label = 4\n",
    "    elif mask_state == 0 and gender == 1 and age_cls == 2: # 5\n",
    "        label = 5\n",
    "    elif mask_state == 1 and gender == 0 and age_cls == 0: # 6\n",
    "        label = 6\n",
    "    elif mask_state == 1 and gender == 0 and age_cls == 1: # 7\n",
    "        label = 7\n",
    "    elif mask_state == 1 and gender == 0 and age_cls == 2: # 8\n",
    "        label = 8\n",
    "    elif mask_state == 1 and gender == 1 and age_cls == 0: # 9\n",
    "        label = 9\n",
    "    elif mask_state == 1 and gender == 1 and age_cls == 1: # 10\n",
    "        label = 10\n",
    "    elif mask_state == 1 and gender == 1 and age_cls == 2: # 11\n",
    "        label = 11\n",
    "    elif mask_state == 2 and gender == 0 and age_cls == 0: # 12\n",
    "        label = 12\n",
    "    elif mask_state == 2 and gender == 0 and age_cls == 1: # 13\n",
    "        label = 13\n",
    "    elif mask_state == 2 and gender == 0 and age_cls == 2: # 14\n",
    "        label = 14\n",
    "    elif mask_state == 2 and gender == 1 and age_cls == 0: # 15\n",
    "        label = 15\n",
    "    elif mask_state == 2 and gender == 1 and age_cls == 1: # 16\n",
    "        label = 16\n",
    "    elif mask_state == 2 and gender == 1 and age_cls == 2: # 17\n",
    "        label = 17\n",
    "    else:\n",
    "        raise ValueError\n",
    "    return label"
   ]
  },
  {
   "cell_type": "code",
   "execution_count": null,
   "metadata": {},
   "outputs": [],
   "source": [
    "def get_label_another(mask_state, gender, age_reg):\n",
    "    label = 0\n",
    "    if mask_state == 0 and gender == 0 and age_reg<30: # 0:\n",
    "        label = 0\n",
    "    elif mask_state == 0 and gender == 0 and 30<=age_reg<60: # 1\n",
    "        label = 1\n",
    "    elif mask_state == 0 and gender == 0 and age_reg>=60: # 2\n",
    "        label = 2\n",
    "    elif mask_state == 0 and gender == 1 and age_reg<30: # 3\n",
    "        label = 3\n",
    "    elif mask_state == 0 and gender == 1 and 30<=age_reg<60: # 4\n",
    "        label = 4\n",
    "    elif mask_state == 0 and gender == 1 and age_reg>=60: # 5\n",
    "        label = 5\n",
    "    elif mask_state == 1 and gender == 0 and age_reg<30: # 6\n",
    "        label = 6\n",
    "    elif mask_state == 1 and gender == 0 and 30<=age_reg<60: # 7\n",
    "        label = 7\n",
    "    elif mask_state == 1 and gender == 0 and age_reg>=60: # 8\n",
    "        label = 8\n",
    "    elif mask_state == 1 and gender == 1 and age_reg<30: # 9\n",
    "        label = 9\n",
    "    elif mask_state == 1 and gender == 1 and 30<=age_reg<60: # 10\n",
    "        label = 10\n",
    "    elif mask_state == 1 and gender == 1 and age_reg>=60: # 11\n",
    "        label = 11\n",
    "    elif mask_state == 2 and gender == 0 and age_reg<30: # 12\n",
    "        label = 12\n",
    "    elif mask_state == 2 and gender == 0 and 30<=age_reg<60: # 13\n",
    "        label = 13\n",
    "    elif mask_state == 2 and gender == 0 and age_reg>=60: # 14\n",
    "        label = 14\n",
    "    elif mask_state == 2 and gender == 1 and age_reg<30: # 15\n",
    "        label = 15\n",
    "    elif mask_state == 2 and gender == 1 and 30<=age_reg<60: # 16\n",
    "        label = 16\n",
    "    elif mask_state == 2 and gender == 1 and age_reg>=60: # 17\n",
    "        label = 17\n",
    "    else:\n",
    "        raise ValueError\n",
    "    return label"
   ]
  },
  {
   "cell_type": "code",
   "execution_count": null,
   "metadata": {},
   "outputs": [],
   "source": [
    "best_val_loss = np.Inf\n",
    "best_val_acc = 0.\n",
    "best_val_f1 = 0.\n",
    "\n",
    "start=time.process_time()\n",
    "\n",
    "for epoch in range(epochs):\n",
    "    model.train()\n",
    "\n",
    "    epoch_loss = 0\n",
    "    epoch_mask_loss = 0\n",
    "    epoch_gender_loss = 0\n",
    "    epoch_age_loss = 0\n",
    "    epoch_age_reg_loss = 0\n",
    "    \n",
    "\n",
    "    epoch_mask_cls_preds = []\n",
    "    epoch_mask_cls_labels = []\n",
    "\n",
    "    epoch_gender_cls_preds = []\n",
    "    epoch_gender_cls_labels = []\n",
    "\n",
    "    epoch_age_cls_preds = []\n",
    "    epoch_age_cls_labels = []\n",
    "\n",
    "    epoch_pred_ages = []\n",
    "    epoch_label_ages = []\n",
    "\n",
    "\n",
    "    for idx, train_batch in enumerate(train_loader):\n",
    "        b_imgs, f_labels = train_batch # batch imgs and batch labels\n",
    "        b_imgs = b_imgs.to(device)\n",
    "\n",
    "        b_mask_labels, b_gender_labels, b_age_labels, b_age_reg_labels = torch.split(f_labels,[1,1,1,1], dim=1)\n",
    "\n",
    "        b_mask_labels = b_mask_labels.squeeze().to(device).to(torch.int64)\n",
    "        b_gender_labels = b_gender_labels.squeeze().to(device).to(torch.int64)\n",
    "        b_age_labels = b_age_labels.squeeze().to(device).to(torch.int64)\n",
    "        b_age_reg_labels = b_age_reg_labels.to(device).to(torch.float32)\n",
    "\n",
    "        b_output = model(b_imgs)\n",
    "        \n",
    "        b_mask_logit, b_gender_logit, b_age_logit, b_age_reg_pred = torch.split(b_output, [3,2,3,1], dim=1)\n",
    "\n",
    "        mask_loss = mask_criterion(b_mask_logit.to(device), b_mask_labels.squeeze())\n",
    "        gender_loss = gender_criterion(b_gender_logit.to(device), b_gender_labels.squeeze())\n",
    "        age_loss = age_criterion(b_age_logit.to(device), b_age_labels.squeeze())\n",
    "        age_reg_loss = age_reg_criterion(b_age_reg_pred.to(device), b_age_reg_labels)\n",
    "    \n",
    "        b_loss = mask_loss*task_weight[0] + \\\n",
    "                    gender_loss*task_weight[1] + \\\n",
    "                    age_loss*task_weight[2] + \\\n",
    "                    age_reg_loss*task_weight[3]\n",
    "\n",
    "        optimizer.zero_grad()\n",
    "        b_loss.backward()\n",
    "        optimizer.step()\n",
    "        \n",
    "        epoch_loss += b_loss.item()\n",
    "\n",
    "        epoch_mask_loss += mask_loss.item()*task_weight[0]\n",
    "        epoch_gender_loss += gender_loss.item()*task_weight[1]\n",
    "        epoch_age_loss += age_loss.item()*task_weight[2]\n",
    "        epoch_age_reg_loss += age_reg_loss.item()*task_weight[3]\n",
    "\n",
    "        b_mask_preds = torch.argmax(b_mask_logit, dim=-1)\n",
    "        b_gender_preds = torch.argmax(b_gender_logit, dim=-1)\n",
    "        b_age_preds = torch.argmax(b_age_logit, dim=-1)\n",
    "        \n",
    "\n",
    "        epoch_mask_cls_preds += b_mask_preds.detach().cpu().numpy().flatten().tolist()\n",
    "        epoch_mask_cls_labels += b_mask_labels.detach().cpu().numpy().flatten().tolist()\n",
    "\n",
    "        epoch_gender_cls_preds += b_gender_preds.detach().cpu().numpy().flatten().tolist()\n",
    "        epoch_gender_cls_labels += b_gender_labels.detach().cpu().numpy().flatten().tolist()\n",
    "\n",
    "        epoch_age_cls_preds += b_age_preds.detach().cpu().numpy().flatten().tolist()\n",
    "        epoch_age_cls_labels += b_age_labels.detach().cpu().numpy().flatten().tolist() \n",
    "\n",
    "        epoch_pred_ages += b_age_reg_pred.detach().cpu().numpy().flatten().tolist()\n",
    "        epoch_label_ages += b_age_reg_labels.detach().cpu().numpy().flatten().tolist() # for 1d dim\n",
    "\n",
    "        # print interval batch\n",
    "        if(idx+1) % print_interval == 0:\n",
    "\n",
    "            current_loss = epoch_loss / (idx+1) # / batch\n",
    "            current_mask_loss = epoch_mask_loss/(idx+1)\n",
    "            current_gender_loss = epoch_gender_loss/(idx+1)\n",
    "            current_age_loss = epoch_age_loss/(idx+1)\n",
    "            currnet_age_reg_loss = epoch_age_reg_loss/(idx+1)\n",
    "\n",
    "            pred_cls = [get_label(m,g,a) for (m,g,a) in zip(epoch_mask_cls_preds, epoch_gender_cls_preds, epoch_age_cls_preds)]\n",
    "            label_cls = [get_label(m,g,a) for (m,g,a) in zip(epoch_mask_cls_labels, epoch_gender_cls_labels, epoch_age_cls_labels)]\n",
    "            \n",
    "            true_f1 = f1_score(label_cls, pred_cls, average='macro')\n",
    "            age_f1 = f1_score(epoch_mask_cls_labels, epoch_age_cls_preds, average='macro')\n",
    "            epoch_MAE = mean_absolute_error(epoch_label_ages, epoch_pred_ages)\n",
    "            print(f\"Epoch[{epoch+1}/{epochs}]({idx + 1}/{len(train_loader)}) || \"\n",
    "                  f\"training loss {current_loss:2.4f} \"\n",
    "                  f\"M {current_mask_loss:2.4f} G {current_gender_loss:2.4f} A {current_age_loss:2.4f} AR {currnet_age_reg_loss:2.4f} ||\")\n",
    "            print(f\"True f1 {true_f1:2.4f} , age f1 {age_f1:2.4f} || train MAE {epoch_MAE:2.4f} || \"\n",
    "                  f\"lr {optimizer.param_groups[0]['lr']:.5f}\")\n",
    "                \n",
    "    \n",
    "    scheduler.step()\n",
    "    \n",
    "    with torch.no_grad():\n",
    "        print(\"    Calculating validation results...\")\n",
    "        model.eval()\n",
    "\n",
    "        epoch_v_age_loss = 0\n",
    "        epoch_v_age_reg_loss = 0\n",
    "\n",
    "        val_loss = []\n",
    "        val_age_reg_loss = []\n",
    "\n",
    "\n",
    "        val_mask_cls_preds = []\n",
    "        val_mask_cls_labels = []\n",
    "\n",
    "        val_gender_cls_preds = []\n",
    "        val_gender_cls_labels = []\n",
    "\n",
    "        val_age_cls_preds = [] \n",
    "        val_age_cls_labels = []\n",
    "\n",
    "        val_preds_reg_age = []\n",
    "        val_labels_reg_age = []\n",
    "\n",
    "        for idx, val_batch in enumerate(val_loader):\n",
    "            imgs, f_labels = val_batch\n",
    "            mask_labels, gender_labels, age_labels, age_reg_labels = torch.split(f_labels,[1,1,1,1], dim=1)\n",
    "\n",
    "            imgs = imgs.to(device)\n",
    "            \n",
    "            mask_labels = mask_labels.squeeze().to(device).to(torch.int64)\n",
    "            gender_labels = gender_labels.squeeze().to(device).to(torch.int64)\n",
    "            age_labels = age_labels.squeeze().to(device).to(torch.int64)\n",
    "            age_reg_labels = age_reg_labels.to(device).to(torch.float32)\n",
    "\n",
    "            outputs = model(imgs)\n",
    "\n",
    "            mask_logit, gender_logit, age_logit, age_reg_p = torch.split(outputs,[3,2,3,1], dim=1)\n",
    "\n",
    "            mask_loss = mask_criterion(mask_logit.to(device), mask_labels.squeeze())\n",
    "            gender_loss = gender_criterion(gender_logit.to(device), gender_labels.squeeze())\n",
    "            age_loss = age_criterion(age_logit, age_labels.squeeze())\n",
    "            age_reg_loss = age_reg_criterion(age_reg_p.to(device), age_reg_labels)\n",
    "            \n",
    "            t_loss = mask_loss*task_weight[0] + \\\n",
    "                     gender_loss*task_weight[1] + \\\n",
    "                     age_loss*task_weight[2] + \\\n",
    "                     age_reg_loss*task_weight[3]\n",
    "            \n",
    "            val_loss.append(t_loss.item())\n",
    "\n",
    "            epoch_v_age_loss += age_loss.item()*task_weight[2]\n",
    "            epoch_v_age_reg_loss += age_reg_loss.item()*task_weight[3]\n",
    "\n",
    "            mask_preds = torch.argmax(mask_logit, dim=-1)\n",
    "            gender_preds = torch.argmax(gender_logit, dim=-1)\n",
    "            age_preds = torch.argmax(age_logit, dim=-1)\n",
    "\n",
    "            val_mask_cls_preds += mask_preds.detach().cpu().numpy().flatten().tolist()\n",
    "            val_mask_cls_labels += mask_labels.detach().cpu().numpy().flatten().tolist()\n",
    "\n",
    "            val_gender_cls_preds += gender_preds.detach().cpu().numpy().flatten().tolist()\n",
    "            val_gender_cls_labels += gender_labels.detach().cpu().numpy().flatten().tolist()\n",
    "\n",
    "            val_age_cls_preds += age_preds.detach().cpu().numpy().flatten().tolist()\n",
    "            val_age_cls_labels += age_labels.detach().cpu().numpy().flatten().tolist()\n",
    "\n",
    "            val_preds_reg_age += age_reg_p.detach().cpu().numpy().flatten().tolist()\n",
    "            val_labels_reg_age += age_reg_labels.detach().cpu().numpy().flatten().tolist()\n",
    "\n",
    "        pred_cls = [get_label(m,g,a) for (m,g,a) in zip(val_mask_cls_preds, val_gender_cls_preds, val_age_cls_preds)]\n",
    "        label_cls = [get_label(m,g,a) for (m,g,a) in zip(val_mask_cls_labels, val_gender_cls_labels, val_age_cls_labels)]\n",
    "\n",
    "        epoch_val_f1 = f1_score(label_cls, pred_cls, average='macro')\n",
    "        epoch_val_f1_age = f1_score(val_age_cls_labels, val_age_cls_preds, average='macro')\n",
    "\n",
    "        epoch_val_loss = sum(val_loss)/len(val_loss)\n",
    "        current_age_loss = epoch_v_age_loss / len(val_loss)\n",
    "        current_age_reg_loss = epoch_v_age_reg_loss/len(val_loss)\n",
    "\n",
    "        best_val_loss = min(best_val_loss, epoch_val_loss)\n",
    "\n",
    "        if best_val_f1 < epoch_val_f1:\n",
    "                print(f\"    ★ New best model for True val f1 : {epoch_val_f1:2.4f}! saving the best model..\")\n",
    "                best_val_f1 = epoch_val_f1\n",
    "                torch.save(model.state_dict(), f\"{save_dir}/best.pth\")\n",
    "                \n",
    "                list_total_preds = pred_cls # if best score val-set, assign pred result to list_total_preds\n",
    "                list_total_labels = label_cls # if best score val-set, assign pred result to list_total_preds\n",
    "\n",
    "                df_diff = pd.DataFrame()\n",
    "                df_diff['labels'] = list_total_labels\n",
    "                df_diff['preds'] = list_total_preds\n",
    "                df_diff.to_csv(f'{save_dir}/diff.csv')\n",
    "                \n",
    "        torch.save(model.state_dict(), f'{save_dir}/last.pth')\n",
    "        print(f\"    [{epoch+1} epoch Val] True f1:{epoch_val_f1:2.4f}, Age f1:{epoch_val_f1_age:2.4f}, loss, age_loss, age_reg_loss:{epoch_val_loss:2.2f}, {current_age_loss:2.2f}, {current_age_reg_loss:2.2f} || \")\n",
    "        print(f\"    best loss:{best_val_loss:2.4f}, Best f1:{best_val_f1:2.4f}\")\n",
    "    print()\n",
    "    src = './9_T4064_Experiment_4hd.ipynb'\n",
    "    dst = f\"{save_dir}/code.ipynb\"\n",
    "    shutil.copy(src,dst)\n",
    "end = time.process_time()"
   ]
  },
  {
   "cell_type": "markdown",
   "metadata": {},
   "source": [
    "## Result"
   ]
  },
  {
   "cell_type": "code",
   "execution_count": null,
   "metadata": {},
   "outputs": [],
   "source": [
    "print(\"Time elapsed: \", timedelta(seconds=end-start))"
   ]
  },
  {
   "cell_type": "markdown",
   "metadata": {},
   "source": [
    "## Error Analysis"
   ]
  },
  {
   "cell_type": "code",
   "execution_count": null,
   "metadata": {},
   "outputs": [],
   "source": [
    "df_diff = pd.DataFrame()\n",
    "df_diff['labels'] = list_total_labels\n",
    "df_diff['preds'] = list_total_preds\n",
    "df_diff.to_csv(f'{save_dir}/diff.csv')"
   ]
  },
  {
   "cell_type": "code",
   "execution_count": null,
   "metadata": {},
   "outputs": [],
   "source": [
    "df_diff[df_diff['labels']!=df_diff['preds']].value_counts().sort_index()"
   ]
  },
  {
   "cell_type": "code",
   "execution_count": null,
   "metadata": {},
   "outputs": [],
   "source": [
    "sum(df_diff[df_diff['labels']!=df_diff['preds']].value_counts().values)"
   ]
  },
  {
   "cell_type": "code",
   "execution_count": null,
   "metadata": {},
   "outputs": [],
   "source": [
    "100-255/len(df_diff)*100"
   ]
  },
  {
   "cell_type": "code",
   "execution_count": null,
   "metadata": {},
   "outputs": [],
   "source": [
    "src = './9_T4064_Experiment_4hd.ipynb'\n",
    "dst = f\"{save_dir}/code.ipynb\"\n",
    "shutil.copy(src,dst)"
   ]
  },
  {
   "cell_type": "code",
   "execution_count": null,
   "metadata": {},
   "outputs": [],
   "source": []
  }
 ],
 "metadata": {
  "kernelspec": {
   "display_name": "Python 3.8.5 ('base')",
   "language": "python",
   "name": "python3"
  },
  "language_info": {
   "codemirror_mode": {
    "name": "ipython",
    "version": 3
   },
   "file_extension": ".py",
   "mimetype": "text/x-python",
   "name": "python",
   "nbconvert_exporter": "python",
   "pygments_lexer": "ipython3",
   "version": "3.8.5"
  },
  "orig_nbformat": 4,
  "vscode": {
   "interpreter": {
    "hash": "d4d1e4263499bec80672ea0156c357c1ee493ec2b1c70f0acce89fc37c4a6abe"
   }
  }
 },
 "nbformat": 4,
 "nbformat_minor": 2
}
