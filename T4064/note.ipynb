{
 "cells": [
  {
   "cell_type": "markdown",
   "metadata": {},
   "source": [
    "## update log  \n",
    "* 2022-10-23  \n",
    "    * classification guide file update \n",
    "    * timm, albumentation 사용함.  \n",
    "    * early stop code 추가 작성 필요함.  "
   ]
  }
 ],
 "metadata": {
  "language_info": {
   "name": "python"
  },
  "orig_nbformat": 4
 },
 "nbformat": 4,
 "nbformat_minor": 2
}
