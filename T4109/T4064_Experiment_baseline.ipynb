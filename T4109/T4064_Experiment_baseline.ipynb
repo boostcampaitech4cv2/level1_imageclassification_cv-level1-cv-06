{
 "cells": [
  {
   "cell_type": "markdown",
   "metadata": {},
   "source": [
    "## Easy Experiment .ipynb File"
   ]
  },
  {
   "cell_type": "markdown",
   "metadata": {},
   "source": [
    "# train"
   ]
  },
  {
   "cell_type": "code",
   "execution_count": 1,
   "metadata": {},
   "outputs": [],
   "source": [
    "import torch\n",
    "import torch.nn as nn\n",
    "from torch.optim import *\n",
    "from torch.optim.lr_scheduler import *\n",
    "import torch.nn.functional as F\n",
    "\n",
    "import random\n",
    "import time\n",
    "from datetime import timedelta\n",
    "\n",
    "import numpy as np\n",
    "\n",
    "import albumentations as A\n",
    "from albumentations.pytorch import ToTensorV2\n",
    "from torch.utils.data import Dataset\n",
    "from torch.utils.data import DataLoader\n",
    "\n",
    "from sklearn.metrics import f1_score\n",
    "\n",
    "import multiprocessing\n",
    "import timm\n",
    "\n",
    "from PIL import Image\n",
    "\n",
    "import os\n",
    "import json\n",
    "\n",
    "import pandas as pd\n",
    "import matplotlib.pyplot as plt\n",
    "from torchvision.utils import make_grid\n",
    "\n",
    "from sklearn.model_selection import train_test_split"
   ]
  },
  {
   "cell_type": "code",
   "execution_count": 2,
   "metadata": {},
   "outputs": [],
   "source": [
    "with torch.no_grad():\n",
    "    torch.cuda.empty_cache()"
   ]
  },
  {
   "cell_type": "code",
   "execution_count": 3,
   "metadata": {},
   "outputs": [],
   "source": [
    "def seed_everything(seed):\n",
    "    torch.manual_seed(seed)\n",
    "    torch.cuda.manual_seed(seed)\n",
    "    torch.cuda.manual_seed_all(seed)  # if use multi-GPU\n",
    "    torch.backends.cudnn.deterministic = True\n",
    "    torch.backends.cudnn.benchmark = False\n",
    "    np.random.seed(seed)\n",
    "    random.seed(seed)"
   ]
  },
  {
   "cell_type": "markdown",
   "metadata": {},
   "source": [
    "## configuration"
   ]
  },
  {
   "cell_type": "code",
   "execution_count": 4,
   "metadata": {},
   "outputs": [],
   "source": [
    "### cofiguration\n",
    "seed = 17\n",
    "check_point_dir_name = 'baseline'\n",
    "\n",
    "data_dir = '../../input/data/train'\n",
    "train_csv_path = f'{data_dir}/custom_train.csv'\n",
    "save_dir = f'./checkpoints/{check_point_dir_name}'\n",
    "\n",
    "train_b_size = 32\n",
    "valid_b_size = 500\n",
    "train_ratio = 0.7\n",
    "epochs = 5\n",
    "print_interval = 414\n",
    "lr = 3e-4\n",
    "model_name = 'resnet18'\n",
    "num_labels = 18\n",
    "loss_function_name = 'FocalLoss' # ex FocalLoss, CrossEntropyLoss\n",
    "optimizer_name = 'AdamW'\n",
    "weight_decay = 0.02\n",
    "scheduler_name = 'ReduceLROnPlateau'\n",
    "comment = f'스케줄러 변경'\n",
    "\n",
    "\n",
    "use_cuda = torch.cuda.is_available()\n",
    "device = torch.device(\"cuda\" if use_cuda else \"cpu\")\n",
    "\n",
    "\n",
    "seed_everything(seed)"
   ]
  },
  {
   "cell_type": "code",
   "execution_count": 5,
   "metadata": {},
   "outputs": [
    {
     "name": "stdout",
     "output_type": "stream",
     "text": [
      "/opt/ml/input/data/train/images/000001_female_Asian_45/mask1.jpg\n",
      "/opt/ml/input/data/train/images/005251_male_Asian_20/mask5.jpg \t 0\n",
      "\n",
      "/opt/ml/input/data/train/images/004230_female_Asian_60/normal.jpg \t 17\n",
      "\n",
      "/opt/ml/input/data/train/images/001468_female_Asian_60/mask2.jpg \t 5\n",
      "\n",
      "/opt/ml/input/data/train/images/001321_female_Asian_27/mask5.jpg \t 3\n",
      "\n",
      "<class 'numpy.ndarray'>\n",
      "13230\n"
     ]
    }
   ],
   "source": [
    "train_df = pd.read_csv(train_csv_path)\n",
    "imgs_path = train_df['path'] \n",
    "print(imgs_path.values[0])\n",
    "imgs_path = np.array(imgs_path)\n",
    "labels = train_df['label'] # input your label feature\n",
    "labels = np.array(labels)\n",
    "stratify_col = train_df['label']\n",
    "\n",
    "train_paths, valid_paths, train_labels, valid_labels = train_test_split(imgs_path, labels,\n",
    "                                                                        train_size=0.7,\n",
    "                                                                        shuffle=True,\n",
    "                                                                        random_state=seed,\n",
    "                                                                        stratify=stratify_col)\n",
    "len(train_paths)\n",
    "18900*0.7\n",
    "for a, b in zip(valid_paths[:4], valid_labels[:4]):\n",
    "    print(a, '\\t', b)\n",
    "    print()\n",
    "    \n",
    "print(type(train_paths))\n",
    "print(len(train_paths))"
   ]
  },
  {
   "cell_type": "code",
   "execution_count": 6,
   "metadata": {},
   "outputs": [
    {
     "data": {
      "text/html": [
       "<div>\n",
       "<style scoped>\n",
       "    .dataframe tbody tr th:only-of-type {\n",
       "        vertical-align: middle;\n",
       "    }\n",
       "\n",
       "    .dataframe tbody tr th {\n",
       "        vertical-align: top;\n",
       "    }\n",
       "\n",
       "    .dataframe thead th {\n",
       "        text-align: right;\n",
       "    }\n",
       "</style>\n",
       "<table border=\"1\" class=\"dataframe\">\n",
       "  <thead>\n",
       "    <tr style=\"text-align: right;\">\n",
       "      <th></th>\n",
       "      <th>Unnamed: 0</th>\n",
       "      <th>path</th>\n",
       "      <th>ID</th>\n",
       "      <th>mask_state</th>\n",
       "      <th>age</th>\n",
       "      <th>gender</th>\n",
       "      <th>label</th>\n",
       "    </tr>\n",
       "  </thead>\n",
       "  <tbody>\n",
       "    <tr>\n",
       "      <th>0</th>\n",
       "      <td>0</td>\n",
       "      <td>/opt/ml/input/data/train/images/000001_female_...</td>\n",
       "      <td>1</td>\n",
       "      <td>Wear</td>\n",
       "      <td>45</td>\n",
       "      <td>female</td>\n",
       "      <td>4</td>\n",
       "    </tr>\n",
       "    <tr>\n",
       "      <th>1</th>\n",
       "      <td>1</td>\n",
       "      <td>/opt/ml/input/data/train/images/000001_female_...</td>\n",
       "      <td>1</td>\n",
       "      <td>Not Wear</td>\n",
       "      <td>45</td>\n",
       "      <td>female</td>\n",
       "      <td>16</td>\n",
       "    </tr>\n",
       "    <tr>\n",
       "      <th>2</th>\n",
       "      <td>2</td>\n",
       "      <td>/opt/ml/input/data/train/images/000001_female_...</td>\n",
       "      <td>1</td>\n",
       "      <td>Incorrect</td>\n",
       "      <td>45</td>\n",
       "      <td>female</td>\n",
       "      <td>10</td>\n",
       "    </tr>\n",
       "    <tr>\n",
       "      <th>3</th>\n",
       "      <td>3</td>\n",
       "      <td>/opt/ml/input/data/train/images/000001_female_...</td>\n",
       "      <td>1</td>\n",
       "      <td>Wear</td>\n",
       "      <td>45</td>\n",
       "      <td>female</td>\n",
       "      <td>4</td>\n",
       "    </tr>\n",
       "    <tr>\n",
       "      <th>4</th>\n",
       "      <td>4</td>\n",
       "      <td>/opt/ml/input/data/train/images/000001_female_...</td>\n",
       "      <td>1</td>\n",
       "      <td>Wear</td>\n",
       "      <td>45</td>\n",
       "      <td>female</td>\n",
       "      <td>4</td>\n",
       "    </tr>\n",
       "    <tr>\n",
       "      <th>...</th>\n",
       "      <td>...</td>\n",
       "      <td>...</td>\n",
       "      <td>...</td>\n",
       "      <td>...</td>\n",
       "      <td>...</td>\n",
       "      <td>...</td>\n",
       "      <td>...</td>\n",
       "    </tr>\n",
       "    <tr>\n",
       "      <th>18895</th>\n",
       "      <td>18895</td>\n",
       "      <td>/opt/ml/input/data/train/images/006959_male_As...</td>\n",
       "      <td>6959</td>\n",
       "      <td>Incorrect</td>\n",
       "      <td>19</td>\n",
       "      <td>male</td>\n",
       "      <td>6</td>\n",
       "    </tr>\n",
       "    <tr>\n",
       "      <th>18896</th>\n",
       "      <td>18896</td>\n",
       "      <td>/opt/ml/input/data/train/images/006959_male_As...</td>\n",
       "      <td>6959</td>\n",
       "      <td>Wear</td>\n",
       "      <td>19</td>\n",
       "      <td>male</td>\n",
       "      <td>0</td>\n",
       "    </tr>\n",
       "    <tr>\n",
       "      <th>18897</th>\n",
       "      <td>18897</td>\n",
       "      <td>/opt/ml/input/data/train/images/006959_male_As...</td>\n",
       "      <td>6959</td>\n",
       "      <td>Wear</td>\n",
       "      <td>19</td>\n",
       "      <td>male</td>\n",
       "      <td>0</td>\n",
       "    </tr>\n",
       "    <tr>\n",
       "      <th>18898</th>\n",
       "      <td>18898</td>\n",
       "      <td>/opt/ml/input/data/train/images/006959_male_As...</td>\n",
       "      <td>6959</td>\n",
       "      <td>Wear</td>\n",
       "      <td>19</td>\n",
       "      <td>male</td>\n",
       "      <td>0</td>\n",
       "    </tr>\n",
       "    <tr>\n",
       "      <th>18899</th>\n",
       "      <td>18899</td>\n",
       "      <td>/opt/ml/input/data/train/images/006959_male_As...</td>\n",
       "      <td>6959</td>\n",
       "      <td>Wear</td>\n",
       "      <td>19</td>\n",
       "      <td>male</td>\n",
       "      <td>0</td>\n",
       "    </tr>\n",
       "  </tbody>\n",
       "</table>\n",
       "<p>18900 rows × 7 columns</p>\n",
       "</div>"
      ],
      "text/plain": [
       "       Unnamed: 0                                               path    ID  \\\n",
       "0               0  /opt/ml/input/data/train/images/000001_female_...     1   \n",
       "1               1  /opt/ml/input/data/train/images/000001_female_...     1   \n",
       "2               2  /opt/ml/input/data/train/images/000001_female_...     1   \n",
       "3               3  /opt/ml/input/data/train/images/000001_female_...     1   \n",
       "4               4  /opt/ml/input/data/train/images/000001_female_...     1   \n",
       "...           ...                                                ...   ...   \n",
       "18895       18895  /opt/ml/input/data/train/images/006959_male_As...  6959   \n",
       "18896       18896  /opt/ml/input/data/train/images/006959_male_As...  6959   \n",
       "18897       18897  /opt/ml/input/data/train/images/006959_male_As...  6959   \n",
       "18898       18898  /opt/ml/input/data/train/images/006959_male_As...  6959   \n",
       "18899       18899  /opt/ml/input/data/train/images/006959_male_As...  6959   \n",
       "\n",
       "      mask_state  age  gender  label  \n",
       "0           Wear   45  female      4  \n",
       "1       Not Wear   45  female     16  \n",
       "2      Incorrect   45  female     10  \n",
       "3           Wear   45  female      4  \n",
       "4           Wear   45  female      4  \n",
       "...          ...  ...     ...    ...  \n",
       "18895  Incorrect   19    male      6  \n",
       "18896       Wear   19    male      0  \n",
       "18897       Wear   19    male      0  \n",
       "18898       Wear   19    male      0  \n",
       "18899       Wear   19    male      0  \n",
       "\n",
       "[18900 rows x 7 columns]"
      ]
     },
     "execution_count": 6,
     "metadata": {},
     "output_type": "execute_result"
    }
   ],
   "source": [
    "train_df"
   ]
  },
  {
   "cell_type": "code",
   "execution_count": 7,
   "metadata": {},
   "outputs": [],
   "source": [
    "os.makedirs(save_dir,exist_ok=True)"
   ]
  },
  {
   "cell_type": "code",
   "execution_count": 8,
   "metadata": {},
   "outputs": [],
   "source": [
    "dict_args = {\n",
    "'seed' : seed,\n",
    "'train_b_size': train_b_size,\n",
    "'epochs' : epochs,\n",
    "'lr' : lr,\n",
    "'model_name' : model_name,\n",
    "'num_labels' : num_labels,\n",
    "'train_ratio': train_ratio,\n",
    "'loss_function_name' : loss_function_name,\n",
    "'optimizer_name' : optimizer_name,\n",
    "'weight_decay' : weight_decay,\n",
    "'scheduler_name' : scheduler_name,\n",
    "'comment' : comment\n",
    "}"
   ]
  },
  {
   "cell_type": "code",
   "execution_count": 9,
   "metadata": {},
   "outputs": [],
   "source": [
    "with open(os.path.join(save_dir, 'config.json'), 'w', encoding='utf-8') as f:\n",
    "        json.dump(dict_args, f, ensure_ascii=False, indent=4)"
   ]
  },
  {
   "cell_type": "markdown",
   "metadata": {},
   "source": [
    "## datasets class"
   ]
  },
  {
   "cell_type": "code",
   "execution_count": 10,
   "metadata": {},
   "outputs": [],
   "source": [
    "class CustomTrainDataset(Dataset):\n",
    "    ## input pd.Series\n",
    "    ## output np.ndarray\n",
    "    ## change dummy, if label_col is 'gender' or 'mask_state'\n",
    "    def __init__(self, img_paths : pd.Series, labels : pd.Series, label_col='label', transforms=None):\n",
    "        self.img_paths = img_paths\n",
    "        if label_col == 'gender':\n",
    "            self.labels = pd.get_dummies(labels).to_numpy()\n",
    "        elif label_col == 'mask_state':\n",
    "            self.labels = pd.get_dummies(labels).to_numpy()\n",
    "        else: # age, classes\n",
    "            self.labels = labels\n",
    "        ## if (False), assert occur\n",
    "        self.transforms = transforms\n",
    "        assert (self.transforms is not None), ('you must use transforms in Trainset')\n",
    "    \n",
    "    ## return numpy img, label\n",
    "    def __getitem__(self, index):\n",
    "        img_path = self.img_paths[index]\n",
    "        img = np.array(Image.open(img_path))\n",
    "\n",
    "        img = self.transforms(image=img)[\"image\"]\n",
    "        label = self.labels[index]\n",
    "        return img, label\n",
    "\n",
    "    def __len__(self):\n",
    "        return len(self.labels)"
   ]
  },
  {
   "cell_type": "markdown",
   "metadata": {},
   "source": [
    "## augmentations"
   ]
  },
  {
   "cell_type": "code",
   "execution_count": 11,
   "metadata": {},
   "outputs": [
    {
     "data": {
      "image/png": "[encoded data removed]",
      "text/plain": [
       "<PIL.Image.Image image mode=RGB size=50x80 at 0x7FB4A220FF70>"
      ]
     },
     "execution_count": 11,
     "metadata": {},
     "output_type": "execute_result"
    }
   ],
   "source": [
    "# 엉덩이 혼자 공부용!!\n",
    "\n",
    "custom_path = valid_paths[0]\n",
    "img = Image.open(custom_path)\n",
    "# img.size      -->>    (384, 512)     (width, height)\n",
    "# type(img)     -->>    PIL.JpegImagePlugin.JpegImageFile\n",
    "img_np = np.array(img)\n",
    "# img_np.shape  -->>    (512, 384, 3)  (height, width, channel)\n",
    "\n",
    "tf_basic = A.Compose([\n",
    "    A.Resize(height=80, width=50)\n",
    "])\n",
    "\n",
    "img_tf_basic = tf_basic(image=img_np)['image']\n",
    "# img_tf_basic.shape  -->>    (80, 50, 3)    (height, width, channel)\n",
    "# type(img_tf_basic)  -->>    <class 'numpy.ndarray'>\n",
    "Image.fromarray(img_tf_basic)"
   ]
  },
  {
   "cell_type": "code",
   "execution_count": 12,
   "metadata": {},
   "outputs": [
    {
     "data": {
      "image/png": "[encoded data removed]",
      "text/plain": [
       "<PIL.Image.Image image mode=RGB size=50x80 at 0x7FB58863AB80>"
      ]
     },
     "execution_count": 12,
     "metadata": {},
     "output_type": "execute_result"
    }
   ],
   "source": [
    "# 엉덩이 혼자 공부용!!\n",
    "\n",
    "# albumentations: ToTensorV2\n",
    "# Convert image and mask to torch.Tensor.\n",
    "# The numpy HWC image is converted to pytorch CHW tensor\n",
    "tf_totensor = A.Compose([\n",
    "    A.Resize(height=80, width=50),\n",
    "    ToTensorV2()\n",
    "])\n",
    "\n",
    "img_tf_totensor = tf_totensor(image=img_np)['image']\n",
    "# img_tf_totensor.shape -->> torch.Size([3, 80, 50])  (C,H,W)\n",
    "# type(img_tf_totensor)   -->> torch.Tensor\n",
    "img_tf_totensor = img_tf_totensor.permute(1,2,0)\n",
    "img_tf_totensor = np.array(img_tf_totensor)\n",
    "Image.fromarray(img_tf_totensor)"
   ]
  },
  {
   "cell_type": "code",
   "execution_count": 34,
   "metadata": {},
   "outputs": [],
   "source": [
    "train_transforms = A.Compose([\n",
    "        A.Resize(224, 224),\n",
    "        A.HorizontalFlip(p=0.5),\n",
    "        A.VerticalFlip(p=0.3),\n",
    "        A.GridDistortion(p=0.5),\n",
    "        A.CLAHE(),\n",
    "        A.Normalize(mean=(0.560,0.524,0.501), std=(0.233,0.243,0.246)),\n",
    "        ToTensorV2()\n",
    "    ])\n",
    "\n",
    "valid_transforms = A.Compose([\n",
    "        A.Resize(224, 224),\n",
    "        A.Normalize(mean=(0.560,0.524,0.501), std=(0.233,0.243,0.246)),\n",
    "        ToTensorV2()\n",
    "    ])"
   ]
  },
  {
   "cell_type": "markdown",
   "metadata": {},
   "source": [
    "## make dataset and dataloader"
   ]
  },
  {
   "cell_type": "code",
   "execution_count": 35,
   "metadata": {},
   "outputs": [],
   "source": [
    "train_dset = CustomTrainDataset(train_paths, train_labels, 'label', train_transforms)\n",
    "val_dset = CustomTrainDataset(valid_paths, valid_labels, 'label', valid_transforms)"
   ]
  },
  {
   "cell_type": "code",
   "execution_count": 36,
   "metadata": {},
   "outputs": [],
   "source": [
    "train_loader = DataLoader(\n",
    "        train_dset,\n",
    "        batch_size=train_b_size,\n",
    "        num_workers=multiprocessing.cpu_count() // 2,\n",
    "        shuffle=True,\n",
    "        pin_memory=use_cuda,\n",
    "        drop_last=False,\n",
    "    )\n",
    "\n",
    "val_loader = DataLoader(\n",
    "        val_dset,\n",
    "        batch_size=valid_b_size,\n",
    "        num_workers=multiprocessing.cpu_count() // 2,\n",
    "        shuffle=True,\n",
    "        pin_memory=use_cuda,\n",
    "        drop_last=False,\n",
    "    )"
   ]
  },
  {
   "cell_type": "code",
   "execution_count": 37,
   "metadata": {},
   "outputs": [],
   "source": [
    "# a = (next(iter(val_loader)))\n",
    "# a = next(iter(train_loader))\n",
    "b = next(iter(val_loader))"
   ]
  },
  {
   "cell_type": "code",
   "execution_count": 31,
   "metadata": {},
   "outputs": [
    {
     "data": {
      "text/plain": [
       "torch.Size([500, 3, 224, 224])"
      ]
     },
     "execution_count": 31,
     "metadata": {},
     "output_type": "execute_result"
    }
   ],
   "source": [
    "b[0].shape\n",
    "# b[1].shape"
   ]
  },
  {
   "cell_type": "markdown",
   "metadata": {},
   "source": [
    "## visualization transform"
   ]
  },
  {
   "cell_type": "code",
   "execution_count": 38,
   "metadata": {},
   "outputs": [
    {
     "data": {
      "image/png": "[encoded data removed]",
      "text/plain": [
       "<Figure size 432x288 with 1 Axes>"
      ]
     },
     "metadata": {
      "needs_background": "light"
     },
     "output_type": "display_data"
    }
   ],
   "source": [
    "## checking transform\n",
    "imgs, labels = next(iter(train_loader))\n",
    "plt.imshow(make_grid(imgs, normalize=True).permute(1,2,0))\n",
    "plt.show()"
   ]
  },
  {
   "cell_type": "markdown",
   "metadata": {},
   "source": [
    "## Model"
   ]
  },
  {
   "cell_type": "code",
   "execution_count": 39,
   "metadata": {},
   "outputs": [],
   "source": [
    "model = timm.create_model(model_name='resnet18', pretrained=True, num_classes=num_labels)\n",
    "model.to(device)\n",
    "model = torch.nn.DataParallel(model)"
   ]
  },
  {
   "cell_type": "markdown",
   "metadata": {},
   "source": [
    "## Loss function"
   ]
  },
  {
   "cell_type": "code",
   "execution_count": 40,
   "metadata": {},
   "outputs": [],
   "source": [
    "class FocalLoss(nn.Module):\n",
    "    def __init__(self, weight=None,\n",
    "                 gamma=2., reduction='mean'):\n",
    "        nn.Module.__init__(self)\n",
    "        self.weight = weight\n",
    "        self.gamma = gamma\n",
    "        self.reduction = reduction\n",
    "\n",
    "    def forward(self, input_tensor, target_tensor):\n",
    "        log_prob = F.log_softmax(input_tensor, dim=-1)\n",
    "        prob = torch.exp(log_prob)\n",
    "        return F.nll_loss(\n",
    "            ((1 - prob) ** self.gamma) * log_prob,\n",
    "            target_tensor,\n",
    "            weight=self.weight,\n",
    "            reduction=self.reduction\n",
    "        )\n",
    "\n",
    "class F1Loss(nn.Module):\n",
    "    def __init__(self, classes=18, epsilon=1e-7):\n",
    "        super().__init__()\n",
    "        self.classes = classes\n",
    "        self.epsilon = epsilon\n",
    "\n",
    "    def forward(self, y_pred, y_true):\n",
    "        assert y_pred.ndim == 2\n",
    "        assert y_true.ndim == 1\n",
    "        y_true = F.one_hot(y_true, self.classes).to(torch.float32)\n",
    "        y_pred = F.softmax(y_pred, dim=1)\n",
    "\n",
    "        tp = (y_true * y_pred).sum(dim=0).to(torch.float32)\n",
    "        tn = ((1 - y_true) * (1 - y_pred)).sum(dim=0).to(torch.float32)\n",
    "        fp = ((1 - y_true) * y_pred).sum(dim=0).to(torch.float32)\n",
    "        fn = (y_true * (1 - y_pred)).sum(dim=0).to(torch.float32)\n",
    "\n",
    "        precision = tp / (tp + fp + self.epsilon)\n",
    "        recall = tp / (tp + fn + self.epsilon)\n",
    "\n",
    "        f1 = 2 * (precision * recall) / (precision + recall + self.epsilon)\n",
    "        f1 = f1.clamp(min=self.epsilon, max=1 - self.epsilon)\n",
    "        return 1 - f1.mean()"
   ]
  },
  {
   "cell_type": "code",
   "execution_count": 41,
   "metadata": {},
   "outputs": [],
   "source": [
    "if loss_function_name == 'CrossEntropyLoss':\n",
    "    criterion = nn.CrossEntropyLoss()\n",
    "elif loss_function_name == 'FocalLoss':\n",
    "    criterion = FocalLoss()\n",
    "elif loss_function_name == 'F1Loss':\n",
    "    criterion = F1Loss(classes=num_labels)\n",
    "else:\n",
    "    raise ValueError(f'not implement Loss function : {loss_function_name}')"
   ]
  },
  {
   "cell_type": "markdown",
   "metadata": {},
   "source": [
    "## Optimizer"
   ]
  },
  {
   "cell_type": "code",
   "execution_count": 42,
   "metadata": {},
   "outputs": [],
   "source": [
    "# if you param freeze, not update during training\n",
    "optimizer = None\n",
    "if optimizer_name == 'AdamW':\n",
    "    optimizer = AdamW(filter(lambda p: p.requires_grad, model.parameters()), lr=lr, weight_decay=weight_decay) # 0.09 \n",
    "else:\n",
    "    raise ValueError(f'not implement Optimizer : {optimizer_name}')"
   ]
  },
  {
   "cell_type": "markdown",
   "metadata": {},
   "source": [
    "## Scheduler  "
   ]
  },
  {
   "cell_type": "code",
   "execution_count": 43,
   "metadata": {},
   "outputs": [],
   "source": [
    "scheduler = None\n",
    "\n",
    "if scheduler_name == 'ReduceLROnPlateau':\n",
    "    ## during 5epochs, valid loss decrease 1e-3↓, lr update lr*0.5\n",
    "    scheduler = ReduceLROnPlateau(optimizer, mode='min', factor=0.5, patience=2, threshold=1e-3) ## 정리\n",
    "elif scheduler_name == 'CosineAnnealingWarmRestarts':\n",
    "    scheduler = CosineAnnealingWarmRestarts(optimizer, T_0=5, T_mult=1, eta_min=1e-4)\n",
    "\n",
    "assert scheduler != None , 'sheduler is None'"
   ]
  },
  {
   "cell_type": "markdown",
   "metadata": {},
   "source": [
    "## Train"
   ]
  },
  {
   "cell_type": "code",
   "execution_count": 44,
   "metadata": {},
   "outputs": [
    {
     "name": "stdout",
     "output_type": "stream",
     "text": [
      "Epoch[1/5](414/414) || training loss 0.3370 || training acc 79.71% || train f1 0.6354 || lr 0.00030\n",
      "Calculating validation results...\n",
      "New best model for val f1 : 0.6929! saving the best model..\n",
      "[1epoch Val] f1 : 0.6929, loss: 0.1536, acc: 87.58% || best f1 : 0.6929, best loss: 0.1536, best acc: 87.58%\n",
      "generalization gap => f1 : -0.0575, current loss : 0.1833\n",
      "\n",
      "Epoch[2/5](414/414) || training loss 0.1530 || training acc 87.41% || train f1 0.7557 || lr 0.00030\n",
      "Calculating validation results...\n",
      "New best model for val f1 : 0.7770! saving the best model..\n",
      "[2epoch Val] f1 : 0.7770, loss: 0.1246, acc: 88.06% || best f1 : 0.7770, best loss: 0.1246, best acc: 88.06%\n",
      "generalization gap => f1 : -0.0213, current loss : 0.0284\n",
      "\n",
      "Epoch[3/5](414/414) || training loss 0.1222 || training acc 88.91% || train f1 0.7980 || lr 0.00030\n",
      "Calculating validation results...\n",
      "New best model for val f1 : 0.8338! saving the best model..\n",
      "[3epoch Val] f1 : 0.8338, loss: 0.1056, acc: 89.74% || best f1 : 0.8338, best loss: 0.1056, best acc: 89.74%\n",
      "generalization gap => f1 : -0.0358, current loss : 0.0166\n",
      "\n",
      "Epoch[4/5](414/414) || training loss 0.1055 || training acc 90.58% || train f1 0.8245 || lr 0.00030\n",
      "Calculating validation results...\n",
      "New best model for val f1 : 0.8374! saving the best model..\n",
      "[4epoch Val] f1 : 0.8374, loss: 0.0749, acc: 92.68% || best f1 : 0.8374, best loss: 0.0749, best acc: 92.68%\n",
      "generalization gap => f1 : -0.0128, current loss : 0.0306\n",
      "\n",
      "Epoch[5/5](414/414) || training loss 0.0973 || training acc 91.03% || train f1 0.8319 || lr 0.00030\n",
      "Calculating validation results...\n",
      "New best model for val f1 : 0.8591! saving the best model..\n",
      "[5epoch Val] f1 : 0.8591, loss: 0.0729, acc: 93.02% || best f1 : 0.8591, best loss: 0.0729, best acc: 93.02%\n",
      "generalization gap => f1 : -0.0272, current loss : 0.0244\n",
      "\n"
     ]
    }
   ],
   "source": [
    "best_val_acc = 0\n",
    "best_val_f1 = 0\n",
    "best_val_loss = np.Inf\n",
    "\n",
    "list_total_preds = [] # full_preds\n",
    "list_total_labels = [] # full_labels\n",
    "\n",
    "start=time.process_time()\n",
    "\n",
    "for epoch in range(epochs):\n",
    "    model.train()\n",
    "\n",
    "    epoch_loss = 0\n",
    "    epoch_preds = []\n",
    "    epoch_labels = []\n",
    "\n",
    "    iter_preds = []\n",
    "    iter_labels = []\n",
    "\n",
    "    for idx, train_batch in enumerate(train_loader):\n",
    "        b_imgs, b_labels = train_batch # batch imgs and batch labels\n",
    "        b_imgs = b_imgs.to(device)\n",
    "        b_labels = b_labels.to(device)\n",
    "\n",
    "        b_logits = model(b_imgs)\n",
    "        b_loss = criterion(b_logits, b_labels)\n",
    "        b_preds = torch.argmax(b_logits, dim=-1)\n",
    "\n",
    "        optimizer.zero_grad()\n",
    "        b_loss.backward()\n",
    "        optimizer.step()\n",
    "\n",
    "        epoch_loss += b_loss.item()\n",
    "        epoch_preds += b_preds.detach().cpu().numpy().tolist()\n",
    "        epoch_labels += b_labels.detach().cpu().numpy().tolist()\n",
    "\n",
    "        # print interval batch\n",
    "        if(idx+1) % print_interval == 0:\n",
    "            current_loss = epoch_loss / (idx+1) # / batch\n",
    "            correct_list = [i==j for i,j in zip(epoch_preds, epoch_labels)]\n",
    "            current_acc = sum(correct_list) / len(correct_list)\n",
    "            epoch_train_f1 = f1_score(epoch_labels, epoch_preds, average='macro')\n",
    "            print(\n",
    "                    f\"Epoch[{epoch+1}/{epochs}]({idx + 1}/{len(train_loader)}) || \"\n",
    "                    f\"training loss {current_loss:2.4f} || training acc {current_acc:4.2%} || train f1 {epoch_train_f1:2.4f} || \"\n",
    "                    f\"lr {optimizer.param_groups[0]['lr']:.5f}\"\n",
    "                )\n",
    "    # scheduler.step()\n",
    "    with torch.no_grad():\n",
    "        print(\"Calculating validation results...\")\n",
    "        model.eval()\n",
    "\n",
    "        val_loss = []\n",
    "        val_acc = []\n",
    "\n",
    "        val_preds = [] # every data's preds\n",
    "        val_labels = [] # every data's label\n",
    "\n",
    "        for idx, val_batch in enumerate(val_loader):\n",
    "            imgs, labels = val_batch\n",
    "            imgs = imgs.to(device)\n",
    "            labels = labels.to(device)\n",
    "\n",
    "            logits = model(imgs)\n",
    "            b_loss = criterion(logits, labels).item()\n",
    "            \n",
    "            preds = torch.argmax(logits, dim=-1)\n",
    "\n",
    "            correct_num = (labels == preds).sum().item()\n",
    "\n",
    "            val_loss.append(b_loss)\n",
    "            val_acc.append(correct_num)\n",
    "\n",
    "            val_preds += preds.detach().cpu().numpy().tolist()\n",
    "            val_labels += labels.detach().cpu().numpy().tolist()\n",
    "\n",
    "            \n",
    "\n",
    "        epoch_val_loss =  np.sum(val_loss)/len(val_loader)\n",
    "        epoch_val_acc = np.sum(val_acc)/len(val_dset)\n",
    "        epoch_val_f1 = f1_score(val_labels, val_preds, average='macro')\n",
    "        \n",
    "        scheduler.step(epoch_val_loss)\n",
    "        \n",
    "        best_val_loss = min(best_val_loss, epoch_val_loss)\n",
    "\n",
    "        if epoch_val_f1 > best_val_f1:\n",
    "                print(f\"New best model for val f1 : {epoch_val_f1:2.4f}! saving the best model..\")\n",
    "                best_val_f1 = epoch_val_f1\n",
    "                torch.save(model.module.state_dict(), f\"{save_dir}/best.pth\")\n",
    "\n",
    "                list_total_preds = val_preds\n",
    "                list_total_labels = val_labels\n",
    "                \n",
    "        if epoch_val_acc > best_val_acc:\n",
    "                best_val_acc = epoch_val_acc\n",
    "        torch.save(model.module.state_dict(), f'{save_dir}/last.pth')\n",
    "        print(\n",
    "                f\"[{epoch+1}epoch Val] f1 : {epoch_val_f1:2.4f}, loss: {epoch_val_loss:2.4f}, acc: {epoch_val_acc:4.2%} || \"\n",
    "                f\"best f1 : {best_val_f1:2.4f}, best loss: {best_val_loss:2.4f}, best acc: {best_val_acc:4.2%}\"\n",
    "            )\n",
    "        print(f\"generalization gap => f1 : {epoch_train_f1-best_val_f1:2.4f}, current loss : {current_loss-epoch_val_loss:2.4f}\")\n",
    "    print()\n",
    "end = time.process_time()"
   ]
  },
  {
   "cell_type": "code",
   "execution_count": 45,
   "metadata": {},
   "outputs": [
    {
     "name": "stdout",
     "output_type": "stream",
     "text": [
      "Time elapsed:  0:02:05.913181\n"
     ]
    }
   ],
   "source": [
    "print(\"Time elapsed: \", timedelta(seconds=end-start))"
   ]
  },
  {
   "cell_type": "markdown",
   "metadata": {},
   "source": [
    "## Error Analysis"
   ]
  },
  {
   "cell_type": "code",
   "execution_count": 46,
   "metadata": {},
   "outputs": [],
   "source": [
    "df_diff = pd.DataFrame()\n",
    "df_diff['labels'] = list_total_labels\n",
    "df_diff['preds'] = list_total_preds\n",
    "df_diff.to_csv(f'{save_dir}/diff.csv')"
   ]
  },
  {
   "cell_type": "code",
   "execution_count": 47,
   "metadata": {},
   "outputs": [
    {
     "data": {
      "text/html": [
       "<div>\n",
       "<style scoped>\n",
       "    .dataframe tbody tr th:only-of-type {\n",
       "        vertical-align: middle;\n",
       "    }\n",
       "\n",
       "    .dataframe tbody tr th {\n",
       "        vertical-align: top;\n",
       "    }\n",
       "\n",
       "    .dataframe thead th {\n",
       "        text-align: right;\n",
       "    }\n",
       "</style>\n",
       "<table border=\"1\" class=\"dataframe\">\n",
       "  <thead>\n",
       "    <tr style=\"text-align: right;\">\n",
       "      <th></th>\n",
       "      <th>labels</th>\n",
       "      <th>preds</th>\n",
       "    </tr>\n",
       "  </thead>\n",
       "  <tbody>\n",
       "    <tr>\n",
       "      <th>0</th>\n",
       "      <td>3</td>\n",
       "      <td>3</td>\n",
       "    </tr>\n",
       "    <tr>\n",
       "      <th>1</th>\n",
       "      <td>1</td>\n",
       "      <td>1</td>\n",
       "    </tr>\n",
       "    <tr>\n",
       "      <th>2</th>\n",
       "      <td>15</td>\n",
       "      <td>15</td>\n",
       "    </tr>\n",
       "    <tr>\n",
       "      <th>3</th>\n",
       "      <td>4</td>\n",
       "      <td>4</td>\n",
       "    </tr>\n",
       "    <tr>\n",
       "      <th>4</th>\n",
       "      <td>4</td>\n",
       "      <td>4</td>\n",
       "    </tr>\n",
       "    <tr>\n",
       "      <th>...</th>\n",
       "      <td>...</td>\n",
       "      <td>...</td>\n",
       "    </tr>\n",
       "    <tr>\n",
       "      <th>5665</th>\n",
       "      <td>3</td>\n",
       "      <td>3</td>\n",
       "    </tr>\n",
       "    <tr>\n",
       "      <th>5666</th>\n",
       "      <td>7</td>\n",
       "      <td>7</td>\n",
       "    </tr>\n",
       "    <tr>\n",
       "      <th>5667</th>\n",
       "      <td>15</td>\n",
       "      <td>15</td>\n",
       "    </tr>\n",
       "    <tr>\n",
       "      <th>5668</th>\n",
       "      <td>1</td>\n",
       "      <td>2</td>\n",
       "    </tr>\n",
       "    <tr>\n",
       "      <th>5669</th>\n",
       "      <td>4</td>\n",
       "      <td>4</td>\n",
       "    </tr>\n",
       "  </tbody>\n",
       "</table>\n",
       "<p>5670 rows × 2 columns</p>\n",
       "</div>"
      ],
      "text/plain": [
       "      labels  preds\n",
       "0          3      3\n",
       "1          1      1\n",
       "2         15     15\n",
       "3          4      4\n",
       "4          4      4\n",
       "...      ...    ...\n",
       "5665       3      3\n",
       "5666       7      7\n",
       "5667      15     15\n",
       "5668       1      2\n",
       "5669       4      4\n",
       "\n",
       "[5670 rows x 2 columns]"
      ]
     },
     "execution_count": 47,
     "metadata": {},
     "output_type": "execute_result"
    }
   ],
   "source": [
    "df_diff"
   ]
  },
  {
   "cell_type": "code",
   "execution_count": 48,
   "metadata": {},
   "outputs": [],
   "source": [
    "## junior middle senior\n",
    "def get_sentence(code):\n",
    "    codebook = ['Wear,male,junior', # 0\n",
    "                'Wear,male,middle', # 1\n",
    "                'Wear,male,senior', # 2\n",
    "                'Wear,female,junior', # 3\n",
    "                'Wear,female,middle', # 4\n",
    "                'Wear,female,senior', # 5\n",
    "                'Incorrect,male,junior', # 6\n",
    "                'Incorrect,male,middle', # 7\n",
    "                'Incorrect,male,senior', # 8\n",
    "                'Incorrect,female,junior', # 9\n",
    "                'Incorrect,female,middle', # 10\n",
    "                'Incorrect,female,senior', # 11\n",
    "                'Not Wear,male,junior', # 12\n",
    "                'Not Wear,male,middle', # 13\n",
    "                'Not Wear,male,senior', # 14\n",
    "                'Not Wear,female,junior', # 15\n",
    "                'Not Wear,female,middle', # 16\n",
    "                'Not Wear,female,senior'] # 17\n",
    "    return codebook[code]\n",
    "\n",
    "def get_age_category(num):\n",
    "    category = None\n",
    "    if num>=60:\n",
    "        category = 'senior'\n",
    "    elif 30<=num<60:\n",
    "        category = 'middle'\n",
    "    else:\n",
    "        category = 'junior'\n",
    "    return category"
   ]
  },
  {
   "cell_type": "code",
   "execution_count": 49,
   "metadata": {},
   "outputs": [],
   "source": [
    "list_wear_labels = []\n",
    "list_gender_labels = []\n",
    "list_age_labels = []\n",
    "\n",
    "list_wear_preds = []\n",
    "list_gender_preds = []\n",
    "list_age_preds = []\n",
    "\n",
    "for label in df_diff['labels']:\n",
    "    row = get_sentence(label).split(',')\n",
    "    list_wear_labels.append(row[0])\n",
    "    list_gender_labels.append(row[1])\n",
    "    list_age_labels.append(row[2])\n",
    "\n",
    "for label in df_diff['preds']:\n",
    "    row = get_sentence(label).split(',')\n",
    "    list_wear_preds.append(row[0])\n",
    "    list_gender_preds.append(row[1])\n",
    "    list_age_preds.append(row[2])"
   ]
  },
  {
   "cell_type": "code",
   "execution_count": 50,
   "metadata": {},
   "outputs": [],
   "source": [
    "list_cause = []\n",
    "for row in zip(list_wear_labels, list_wear_preds, list_gender_labels, list_gender_preds, list_age_labels, list_age_preds):\n",
    "    sentence = []\n",
    "    if row[0] != row[1]:\n",
    "        sentence.append('mask_state')\n",
    "    if row[2] != row[3]:\n",
    "        sentence.append('gender')\n",
    "    if row[4] != row[5]:\n",
    "        sentence.append('age')\n",
    "    \n",
    "    if len(sentence) == 0:\n",
    "        sentence = \"correct\"\n",
    "    elif len(sentence) == 1:\n",
    "        sentence = sentence[0]\n",
    "    else: # len(sentence) == 2\n",
    "        sentence = ','.join(sentence)\n",
    "    list_cause.append(sentence)"
   ]
  },
  {
   "cell_type": "code",
   "execution_count": 51,
   "metadata": {},
   "outputs": [
    {
     "data": {
      "text/plain": [
       "correct       5274\n",
       "age            325\n",
       "gender          36\n",
       "mask_state      25\n",
       "gender,age      10\n",
       "dtype: int64"
      ]
     },
     "execution_count": 51,
     "metadata": {},
     "output_type": "execute_result"
    }
   ],
   "source": [
    "l = pd.Series(list_cause)\n",
    "l.value_counts()"
   ]
  },
  {
   "cell_type": "code",
   "execution_count": 52,
   "metadata": {},
   "outputs": [],
   "source": [
    "df_diff['cause'] = list_cause\n",
    "df_diff.to_csv(f'{save_dir}/analysis.csv')"
   ]
  },
  {
   "cell_type": "markdown",
   "metadata": {},
   "source": [
    "## inference"
   ]
  },
  {
   "cell_type": "markdown",
   "metadata": {},
   "source": [
    "## inference config"
   ]
  },
  {
   "cell_type": "code",
   "execution_count": 53,
   "metadata": {},
   "outputs": [],
   "source": [
    "model_name = 'resnet18'\n",
    "check_point_dir_name = 'baseline'\n",
    "save_file_path = f'./checkpoints/{check_point_dir_name}/best.pth'\n",
    "test_dir = './dataset/eval/images/'\n",
    "test_csv_path = './dataset/eval/info.csv'\n",
    "\n",
    "test_b_size = 500\n",
    "num_labels = 18\n",
    "sumbission_csv_name = 'result'"
   ]
  },
  {
   "cell_type": "markdown",
   "metadata": {},
   "source": [
    "## checkpoint model load"
   ]
  },
  {
   "cell_type": "code",
   "execution_count": 54,
   "metadata": {},
   "outputs": [],
   "source": [
    "model = timm.create_model(model_name=model_name, pretrained=False, num_classes=num_labels)\n",
    "model.to(device)\n",
    "model.load_state_dict(torch.load(save_file_path))\n",
    "model = torch.nn.DataParallel(model)"
   ]
  },
  {
   "cell_type": "markdown",
   "metadata": {},
   "source": [
    "## test dataset"
   ]
  },
  {
   "cell_type": "code",
   "execution_count": 55,
   "metadata": {},
   "outputs": [],
   "source": [
    "class CustomTestDataset(Dataset):\n",
    "    def __init__(self, img_paths:list, transforms=None):\n",
    "        self.img_paths = img_paths\n",
    "        self.transforms = transforms\n",
    "        assert self.transforms is not None, 'you must use transforms in Testset'\n",
    "\n",
    "    def __getitem__(self, index):\n",
    "        img = Image.open(self.img_paths[index])\n",
    "        img = np.array(img)\n",
    "        img = self.transforms(image=img)[\"image\"]\n",
    "        return img\n",
    "\n",
    "    def __len__(self):\n",
    "        return len(self.img_paths)"
   ]
  },
  {
   "cell_type": "code",
   "execution_count": 56,
   "metadata": {},
   "outputs": [],
   "source": [
    "test_transforms = A.Compose([A.Resize(224, 224),\n",
    "                             A.Normalize(mean=(0.560,0.524,0.501), std=(0.233,0.243,0.246)),\n",
    "                             ToTensorV2()])"
   ]
  },
  {
   "cell_type": "code",
   "execution_count": 57,
   "metadata": {},
   "outputs": [
    {
     "ename": "FileNotFoundError",
     "evalue": "[Errno 2] No such file or directory: './dataset/eval/info.csv'",
     "output_type": "error",
     "traceback": [
      "\u001b[0;31m---------------------------------------------------------------------------\u001b[0m",
      "\u001b[0;31mFileNotFoundError\u001b[0m                         Traceback (most recent call last)",
      "Cell \u001b[0;32mIn [57], line 1\u001b[0m\n\u001b[0;32m----> 1\u001b[0m info \u001b[39m=\u001b[39m pd\u001b[39m.\u001b[39;49mread_csv(test_csv_path)\n\u001b[1;32m      2\u001b[0m test_imgs_path \u001b[39m=\u001b[39m [os\u001b[39m.\u001b[39mpath\u001b[39m.\u001b[39mjoin(test_dir, img_id) \u001b[39mfor\u001b[39;00m img_id \u001b[39min\u001b[39;00m info\u001b[39m.\u001b[39mImageID]\n",
      "File \u001b[0;32m/opt/conda/lib/python3.8/site-packages/pandas/io/parsers.py:610\u001b[0m, in \u001b[0;36mread_csv\u001b[0;34m(filepath_or_buffer, sep, delimiter, header, names, index_col, usecols, squeeze, prefix, mangle_dupe_cols, dtype, engine, converters, true_values, false_values, skipinitialspace, skiprows, skipfooter, nrows, na_values, keep_default_na, na_filter, verbose, skip_blank_lines, parse_dates, infer_datetime_format, keep_date_col, date_parser, dayfirst, cache_dates, iterator, chunksize, compression, thousands, decimal, lineterminator, quotechar, quoting, doublequote, escapechar, comment, encoding, dialect, error_bad_lines, warn_bad_lines, delim_whitespace, low_memory, memory_map, float_precision, storage_options)\u001b[0m\n\u001b[1;32m    605\u001b[0m kwds_defaults \u001b[39m=\u001b[39m _refine_defaults_read(\n\u001b[1;32m    606\u001b[0m     dialect, delimiter, delim_whitespace, engine, sep, defaults\u001b[39m=\u001b[39m{\u001b[39m\"\u001b[39m\u001b[39mdelimiter\u001b[39m\u001b[39m\"\u001b[39m: \u001b[39m\"\u001b[39m\u001b[39m,\u001b[39m\u001b[39m\"\u001b[39m}\n\u001b[1;32m    607\u001b[0m )\n\u001b[1;32m    608\u001b[0m kwds\u001b[39m.\u001b[39mupdate(kwds_defaults)\n\u001b[0;32m--> 610\u001b[0m \u001b[39mreturn\u001b[39;00m _read(filepath_or_buffer, kwds)\n",
      "File \u001b[0;32m/opt/conda/lib/python3.8/site-packages/pandas/io/parsers.py:462\u001b[0m, in \u001b[0;36m_read\u001b[0;34m(filepath_or_buffer, kwds)\u001b[0m\n\u001b[1;32m    459\u001b[0m _validate_names(kwds\u001b[39m.\u001b[39mget(\u001b[39m\"\u001b[39m\u001b[39mnames\u001b[39m\u001b[39m\"\u001b[39m, \u001b[39mNone\u001b[39;00m))\n\u001b[1;32m    461\u001b[0m \u001b[39m# Create the parser.\u001b[39;00m\n\u001b[0;32m--> 462\u001b[0m parser \u001b[39m=\u001b[39m TextFileReader(filepath_or_buffer, \u001b[39m*\u001b[39;49m\u001b[39m*\u001b[39;49mkwds)\n\u001b[1;32m    464\u001b[0m \u001b[39mif\u001b[39;00m chunksize \u001b[39mor\u001b[39;00m iterator:\n\u001b[1;32m    465\u001b[0m     \u001b[39mreturn\u001b[39;00m parser\n",
      "File \u001b[0;32m/opt/conda/lib/python3.8/site-packages/pandas/io/parsers.py:819\u001b[0m, in \u001b[0;36mTextFileReader.__init__\u001b[0;34m(self, f, engine, **kwds)\u001b[0m\n\u001b[1;32m    816\u001b[0m \u001b[39mif\u001b[39;00m \u001b[39m\"\u001b[39m\u001b[39mhas_index_names\u001b[39m\u001b[39m\"\u001b[39m \u001b[39min\u001b[39;00m kwds:\n\u001b[1;32m    817\u001b[0m     \u001b[39mself\u001b[39m\u001b[39m.\u001b[39moptions[\u001b[39m\"\u001b[39m\u001b[39mhas_index_names\u001b[39m\u001b[39m\"\u001b[39m] \u001b[39m=\u001b[39m kwds[\u001b[39m\"\u001b[39m\u001b[39mhas_index_names\u001b[39m\u001b[39m\"\u001b[39m]\n\u001b[0;32m--> 819\u001b[0m \u001b[39mself\u001b[39m\u001b[39m.\u001b[39m_engine \u001b[39m=\u001b[39m \u001b[39mself\u001b[39;49m\u001b[39m.\u001b[39;49m_make_engine(\u001b[39mself\u001b[39;49m\u001b[39m.\u001b[39;49mengine)\n",
      "File \u001b[0;32m/opt/conda/lib/python3.8/site-packages/pandas/io/parsers.py:1050\u001b[0m, in \u001b[0;36mTextFileReader._make_engine\u001b[0;34m(self, engine)\u001b[0m\n\u001b[1;32m   1046\u001b[0m     \u001b[39mraise\u001b[39;00m \u001b[39mValueError\u001b[39;00m(\n\u001b[1;32m   1047\u001b[0m         \u001b[39mf\u001b[39m\u001b[39m\"\u001b[39m\u001b[39mUnknown engine: \u001b[39m\u001b[39m{\u001b[39;00mengine\u001b[39m}\u001b[39;00m\u001b[39m (valid options are \u001b[39m\u001b[39m{\u001b[39;00mmapping\u001b[39m.\u001b[39mkeys()\u001b[39m}\u001b[39;00m\u001b[39m)\u001b[39m\u001b[39m\"\u001b[39m\n\u001b[1;32m   1048\u001b[0m     )\n\u001b[1;32m   1049\u001b[0m \u001b[39m# error: Too many arguments for \"ParserBase\"\u001b[39;00m\n\u001b[0;32m-> 1050\u001b[0m \u001b[39mreturn\u001b[39;00m mapping[engine](\u001b[39mself\u001b[39;49m\u001b[39m.\u001b[39;49mf, \u001b[39m*\u001b[39;49m\u001b[39m*\u001b[39;49m\u001b[39mself\u001b[39;49m\u001b[39m.\u001b[39;49moptions)\n",
      "File \u001b[0;32m/opt/conda/lib/python3.8/site-packages/pandas/io/parsers.py:1867\u001b[0m, in \u001b[0;36mCParserWrapper.__init__\u001b[0;34m(self, src, **kwds)\u001b[0m\n\u001b[1;32m   1864\u001b[0m kwds[\u001b[39m\"\u001b[39m\u001b[39musecols\u001b[39m\u001b[39m\"\u001b[39m] \u001b[39m=\u001b[39m \u001b[39mself\u001b[39m\u001b[39m.\u001b[39musecols\n\u001b[1;32m   1866\u001b[0m \u001b[39m# open handles\u001b[39;00m\n\u001b[0;32m-> 1867\u001b[0m \u001b[39mself\u001b[39;49m\u001b[39m.\u001b[39;49m_open_handles(src, kwds)\n\u001b[1;32m   1868\u001b[0m \u001b[39massert\u001b[39;00m \u001b[39mself\u001b[39m\u001b[39m.\u001b[39mhandles \u001b[39mis\u001b[39;00m \u001b[39mnot\u001b[39;00m \u001b[39mNone\u001b[39;00m\n\u001b[1;32m   1869\u001b[0m \u001b[39mfor\u001b[39;00m key \u001b[39min\u001b[39;00m (\u001b[39m\"\u001b[39m\u001b[39mstorage_options\u001b[39m\u001b[39m\"\u001b[39m, \u001b[39m\"\u001b[39m\u001b[39mencoding\u001b[39m\u001b[39m\"\u001b[39m, \u001b[39m\"\u001b[39m\u001b[39mmemory_map\u001b[39m\u001b[39m\"\u001b[39m, \u001b[39m\"\u001b[39m\u001b[39mcompression\u001b[39m\u001b[39m\"\u001b[39m):\n",
      "File \u001b[0;32m/opt/conda/lib/python3.8/site-packages/pandas/io/parsers.py:1362\u001b[0m, in \u001b[0;36mParserBase._open_handles\u001b[0;34m(self, src, kwds)\u001b[0m\n\u001b[1;32m   1358\u001b[0m \u001b[39mdef\u001b[39;00m \u001b[39m_open_handles\u001b[39m(\u001b[39mself\u001b[39m, src: FilePathOrBuffer, kwds: Dict[\u001b[39mstr\u001b[39m, Any]) \u001b[39m-\u001b[39m\u001b[39m>\u001b[39m \u001b[39mNone\u001b[39;00m:\n\u001b[1;32m   1359\u001b[0m     \u001b[39m\"\"\"\u001b[39;00m\n\u001b[1;32m   1360\u001b[0m \u001b[39m    Let the readers open IOHanldes after they are done with their potential raises.\u001b[39;00m\n\u001b[1;32m   1361\u001b[0m \u001b[39m    \"\"\"\u001b[39;00m\n\u001b[0;32m-> 1362\u001b[0m     \u001b[39mself\u001b[39m\u001b[39m.\u001b[39mhandles \u001b[39m=\u001b[39m get_handle(\n\u001b[1;32m   1363\u001b[0m         src,\n\u001b[1;32m   1364\u001b[0m         \u001b[39m\"\u001b[39;49m\u001b[39mr\u001b[39;49m\u001b[39m\"\u001b[39;49m,\n\u001b[1;32m   1365\u001b[0m         encoding\u001b[39m=\u001b[39;49mkwds\u001b[39m.\u001b[39;49mget(\u001b[39m\"\u001b[39;49m\u001b[39mencoding\u001b[39;49m\u001b[39m\"\u001b[39;49m, \u001b[39mNone\u001b[39;49;00m),\n\u001b[1;32m   1366\u001b[0m         compression\u001b[39m=\u001b[39;49mkwds\u001b[39m.\u001b[39;49mget(\u001b[39m\"\u001b[39;49m\u001b[39mcompression\u001b[39;49m\u001b[39m\"\u001b[39;49m, \u001b[39mNone\u001b[39;49;00m),\n\u001b[1;32m   1367\u001b[0m         memory_map\u001b[39m=\u001b[39;49mkwds\u001b[39m.\u001b[39;49mget(\u001b[39m\"\u001b[39;49m\u001b[39mmemory_map\u001b[39;49m\u001b[39m\"\u001b[39;49m, \u001b[39mFalse\u001b[39;49;00m),\n\u001b[1;32m   1368\u001b[0m         storage_options\u001b[39m=\u001b[39;49mkwds\u001b[39m.\u001b[39;49mget(\u001b[39m\"\u001b[39;49m\u001b[39mstorage_options\u001b[39;49m\u001b[39m\"\u001b[39;49m, \u001b[39mNone\u001b[39;49;00m),\n\u001b[1;32m   1369\u001b[0m     )\n",
      "File \u001b[0;32m/opt/conda/lib/python3.8/site-packages/pandas/io/common.py:647\u001b[0m, in \u001b[0;36mget_handle\u001b[0;34m(path_or_buf, mode, encoding, compression, memory_map, is_text, errors, storage_options)\u001b[0m\n\u001b[1;32m    645\u001b[0m         errors \u001b[39m=\u001b[39m \u001b[39m\"\u001b[39m\u001b[39mreplace\u001b[39m\u001b[39m\"\u001b[39m\n\u001b[1;32m    646\u001b[0m     \u001b[39m# Encoding\u001b[39;00m\n\u001b[0;32m--> 647\u001b[0m     handle \u001b[39m=\u001b[39m \u001b[39mopen\u001b[39;49m(\n\u001b[1;32m    648\u001b[0m         handle,\n\u001b[1;32m    649\u001b[0m         ioargs\u001b[39m.\u001b[39;49mmode,\n\u001b[1;32m    650\u001b[0m         encoding\u001b[39m=\u001b[39;49mioargs\u001b[39m.\u001b[39;49mencoding,\n\u001b[1;32m    651\u001b[0m         errors\u001b[39m=\u001b[39;49merrors,\n\u001b[1;32m    652\u001b[0m         newline\u001b[39m=\u001b[39;49m\u001b[39m\"\u001b[39;49m\u001b[39m\"\u001b[39;49m,\n\u001b[1;32m    653\u001b[0m     )\n\u001b[1;32m    654\u001b[0m \u001b[39melse\u001b[39;00m:\n\u001b[1;32m    655\u001b[0m     \u001b[39m# Binary mode\u001b[39;00m\n\u001b[1;32m    656\u001b[0m     handle \u001b[39m=\u001b[39m \u001b[39mopen\u001b[39m(handle, ioargs\u001b[39m.\u001b[39mmode)\n",
      "\u001b[0;31mFileNotFoundError\u001b[0m: [Errno 2] No such file or directory: './dataset/eval/info.csv'"
     ]
    }
   ],
   "source": [
    "info = pd.read_csv(test_csv_path)\n",
    "test_imgs_path = [os.path.join(test_dir, img_id) for img_id in info.ImageID]"
   ]
  },
  {
   "cell_type": "code",
   "execution_count": null,
   "metadata": {},
   "outputs": [],
   "source": [
    "test_dset = CustomTestDataset(test_imgs_path, test_transforms)"
   ]
  },
  {
   "cell_type": "code",
   "execution_count": null,
   "metadata": {},
   "outputs": [],
   "source": [
    "test_loader = DataLoader(\n",
    "        test_dset,\n",
    "        batch_size=test_b_size,\n",
    "        num_workers=multiprocessing.cpu_count() // 2,\n",
    "        shuffle=False,\n",
    "        pin_memory=use_cuda,\n",
    "        drop_last=False,\n",
    "    )"
   ]
  },
  {
   "cell_type": "code",
   "execution_count": null,
   "metadata": {},
   "outputs": [],
   "source": [
    "test_preds = []\n",
    "with torch.no_grad():\n",
    "        for idx, images in enumerate(test_loader):\n",
    "            images = images.to(device)\n",
    "            pred = model(images)\n",
    "            pred = pred.argmax(dim=-1)\n",
    "            test_preds.extend(pred.cpu().numpy().tolist())\n",
    "\n",
    "info['ans'] = test_preds\n",
    "save_path = os.path.join(save_dir, f'{sumbission_csv_name}.csv')\n",
    "info.to_csv(save_path, index=False)\n",
    "print(f\"Inference Done! Inference result saved at {save_path}\")"
   ]
  }
 ],
 "metadata": {
  "kernelspec": {
   "display_name": "Python 3.8.5 ('base')",
   "language": "python",
   "name": "python3"
  },
  "language_info": {
   "codemirror_mode": {
    "name": "ipython",
    "version": 3
   },
   "file_extension": ".py",
   "mimetype": "text/x-python",
   "name": "python",
   "nbconvert_exporter": "python",
   "pygments_lexer": "ipython3",
   "version": "3.8.5"
  },
  "orig_nbformat": 4,
  "vscode": {
   "interpreter": {
    "hash": "d4d1e4263499bec80672ea0156c357c1ee493ec2b1c70f0acce89fc37c4a6abe"
   }
  }
 },
 "nbformat": 4,
 "nbformat_minor": 2
}
